{
 "cells": [
  {
   "cell_type": "code",
   "execution_count": null,
   "id": "f86c602d-86dd-4f48-9aa4-106d285a9f14",
   "metadata": {},
   "outputs": [],
   "source": [
    "# Import các thư viện cần thiết\n",
    "from sklearn.datasets import load_iris\n",
    "from sklearn.model_selection import train_test_split\n",
    "from sklearn.neighbors import KNeighborsClassifier\n",
    "from sklearn.metrics import accuracy_score\n",
    "\n"
   ]
  },
  {
   "cell_type": "code",
   "execution_count": null,
   "id": "12e56612-915c-4c83-b21f-3dac550de9f3",
   "metadata": {},
   "outputs": [],
   "source": [
    "# Đọc dữ liệu từ file CSV\n",
    "data = pd.read_csv('duong_dan_den_file.csv')"
   ]
  },
  {
   "cell_type": "code",
   "execution_count": null,
   "id": "d8021c98-a1e0-4bac-86b6-bcf898806a4a",
   "metadata": {},
   "outputs": [],
   "source": [
    "# Hiển thị một số dòng đầu tiên của dữ liệu để kiểm tra\n",
    "print(data.head())"
   ]
  },
  {
   "cell_type": "code",
   "execution_count": null,
   "id": "8c8d46c8-9c27-4004-9860-2778e6d95ebd",
   "metadata": {},
   "outputs": [],
   "source": [
    "# Chia dữ liệu thành features và target\n",
    "X = data.drop('target_column_name', axis=1)  # Xác định các features (các cột ngoại trừ cột nhãn)\n",
    "y = data['target_column_name']  # Nhãn cần dự đoán"
   ]
  },
  {
   "cell_type": "code",
   "execution_count": null,
   "id": "652c18a7-14d7-4430-99f2-160e50af202d",
   "metadata": {},
   "outputs": [],
   "source": [
    "# Chia dữ liệu thành tập huấn luyện và tập kiểm tra\n",
    "X_train, X_test, y_train, y_test = train_test_split(X, y, test_size=0.2, random_state=42)"
   ]
  },
  {
   "cell_type": "code",
   "execution_count": null,
   "id": "a19ef38d-4548-4687-b1d7-0ad6bb68213b",
   "metadata": {},
   "outputs": [],
   "source": [
    "# Khởi tạo mô hình KNN với số lân cận là 3\n",
    "knn = KNeighborsClassifier(n_neighbors=3)"
   ]
  },
  {
   "cell_type": "code",
   "execution_count": null,
   "id": "d859475b-8b3d-4757-b234-c13dfe028932",
   "metadata": {},
   "outputs": [],
   "source": [
    "# Huấn luyện mô hình trên tập huấn luyện\n",
    "knn.fit(X_train, y_train)"
   ]
  },
  {
   "cell_type": "code",
   "execution_count": null,
   "id": "4d76ac6e-652c-4014-96cd-ec56c38a8bd0",
   "metadata": {},
   "outputs": [],
   "source": [
    "# Dự đoán nhãn của dữ liệu kiểm tra\n",
    "y_pred = knn.predict(X_test)\n",
    "\n",
    "# Đánh giá độ chính xác của mô hình\n",
    "accuracy = accuracy_score(y_test, y_pred)\n",
    "print(\"Accuracy:\", accuracy)"
   ]
  }
 ],
 "metadata": {
  "kernelspec": {
   "display_name": "Python 3 (ipykernel)",
   "language": "python",
   "name": "python3"
  },
  "language_info": {
   "codemirror_mode": {
    "name": "ipython",
    "version": 3
   },
   "file_extension": ".py",
   "mimetype": "text/x-python",
   "name": "python",
   "nbconvert_exporter": "python",
   "pygments_lexer": "ipython3",
   "version": "3.11.7"
  }
 },
 "nbformat": 4,
 "nbformat_minor": 5
}
