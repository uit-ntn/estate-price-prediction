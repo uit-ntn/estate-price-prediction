{
 "cells": [
  {
   "cell_type": "code",
   "execution_count": null,
   "id": "42291992-37a7-4764-a1b2-23afb08c36c8",
   "metadata": {},
   "outputs": [],
   "source": [
    "import pandas as pd\n",
    "import numpy as np\n",
    "from sklearn.model_selection import train_test_split\n",
    "from sklearn.linear_model import LinearRegression\n",
    "from sklearn.metrics import mean_squared_error, r2_score"
   ]
  },
  {
   "cell_type": "code",
   "execution_count": null,
   "id": "c017a17e-b48f-4f4f-a316-c5467daa6415",
   "metadata": {},
   "outputs": [],
   "source": [
    "# Đọc dữ liệu từ tệp CSV vào DataFrame\n",
    "data = pd.read_csv('data.csv') # Thay 'data.csv' bằng tên tệp của bạn"
   ]
  },
  {
   "cell_type": "code",
   "execution_count": null,
   "id": "c5033f66-23bd-4218-b949-44b4377a62d1",
   "metadata": {},
   "outputs": [],
   "source": [
    "# In ra 5 dòng đầu tiên của dữ liệu để kiểm tra\n",
    "print(data.head())"
   ]
  },
  {
   "cell_type": "code",
   "execution_count": null,
   "id": "1d4e27fd-79e4-40f8-8031-7d16561dff6d",
   "metadata": {},
   "outputs": [],
   "source": [
    "# Chọn các đặc trưng và nhãn\n",
    "X = data[['size', 'rooms']] # Chọn 'size' và 'rooms' làm đặc trưng\n",
    "y = data['price'] # Giá là nhãn cần dự đoán"
   ]
  },
  {
   "cell_type": "code",
   "execution_count": null,
   "id": "1b8b2389-5168-43de-8831-888a6ee9f201",
   "metadata": {},
   "outputs": [],
   "source": [
    "# Chia dữ liệu thành tập huấn luyện và tập kiểm tra\n",
    "X_train, X_test, y_train, y_test = train_test_split(X, y, test_size=0.2, random_state=42)"
   ]
  },
  {
   "cell_type": "code",
   "execution_count": null,
   "id": "ff09bfbd-eb95-41f5-a269-28e55afa3df2",
   "metadata": {},
   "outputs": [],
   "source": [
    "# Khởi tạo mô hình hồi quy tuyến tính\n",
    "model = LinearRegression()"
   ]
  },
  {
   "cell_type": "code",
   "execution_count": null,
   "id": "79ed0d1f-9e39-485b-8c50-252ffa8b0ed6",
   "metadata": {},
   "outputs": [],
   "source": [
    "# Huấn luyện mô hình trên tập huấn luyện\n",
    "model.fit(X_train, y_train)"
   ]
  },
  {
   "cell_type": "code",
   "execution_count": null,
   "id": "15adbcc0-1f5d-4bc8-8d6c-c21c13ff83f5",
   "metadata": {},
   "outputs": [],
   "source": [
    "# Dự đoán giá trên tập kiểm tra\n",
    "y_pred = model.predict(X_test)"
   ]
  },
  {
   "cell_type": "code",
   "execution_count": null,
   "id": "0c4261fb-4c92-4cd3-9ed2-3b84874c9b19",
   "metadata": {},
   "outputs": [],
   "source": [
    "# Đánh giá mô hình bằng RMSE và R-squared\n",
    "rmse = np.sqrt(mean_squared_error(y_test, y_pred))\n",
    "r2 = r2_score(y_test, y_pred)"
   ]
  },
  {
   "cell_type": "code",
   "execution_count": null,
   "id": "38f700e4-48be-4122-9cda-ba6ecfb9a01e",
   "metadata": {},
   "outputs": [],
   "source": [
    "print(\"RMSE:\", rmse)\n",
    "print(\"R-squared:\", r2"
   ]
  }
 ],
 "metadata": {
  "kernelspec": {
   "display_name": "Python 3 (ipykernel)",
   "language": "python",
   "name": "python3"
  },
  "language_info": {
   "codemirror_mode": {
    "name": "ipython",
    "version": 3
   },
   "file_extension": ".py",
   "mimetype": "text/x-python",
   "name": "python",
   "nbconvert_exporter": "python",
   "pygments_lexer": "ipython3",
   "version": "3.11.7"
  }
 },
 "nbformat": 4,
 "nbformat_minor": 5
}
