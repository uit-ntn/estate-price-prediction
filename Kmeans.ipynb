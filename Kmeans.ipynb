{
 "cells": [
  {
   "cell_type": "code",
   "execution_count": 4,
   "id": "eff090fe-de2e-4ba3-a05a-ca0e0f5c3c16",
   "metadata": {},
   "outputs": [
    {
     "name": "stderr",
     "output_type": "stream",
     "text": [
      "C:\\Users\\Nhan\\anaconda3\\Lib\\site-packages\\sklearn\\cluster\\_kmeans.py:870: FutureWarning: The default value of `n_init` will change from 10 to 'auto' in 1.4. Set the value of `n_init` explicitly to suppress the warning\n",
      "  warnings.warn(\n"
     ]
    },
    {
     "name": "stdout",
     "output_type": "stream",
     "text": [
      "R^2 Score on Test Data: 0.2885983995212549\n"
     ]
    }
   ],
   "source": [
    "import numpy as np\n",
    "import pandas as pd\n",
    "from sklearn.cluster import KMeans\n",
    "from sklearn.linear_model import LinearRegression\n",
    "from sklearn.model_selection import train_test_split\n",
    "\n",
    "# Đọc dữ liệu từ tệp CSV\n",
    "data = pd.read_csv('real_estate_processed.csv')\n",
    "\n",
    "# Lựa chọn các đặc trưng và biến mục tiêu\n",
    "X = data[['size', 'rooms', 'category_name', 'area_name', 'street_name']]\n",
    "y = data['price']\n",
    "\n",
    "# Phân chia dữ liệu thành tập huấn luyện và tập kiểm tra\n",
    "X_train, X_test, y_train, y_test = train_test_split(X, y, test_size=0.2, random_state=42)\n",
    "\n",
    "# Chọn các đặc trưng cho việc phân cụm\n",
    "X_cluster = X_train[['size', 'rooms']]\n",
    "\n",
    "# Huấn luyện mô hình KMeans\n",
    "kmeans = KMeans(n_clusters=2)\n",
    "kmeans.fit(X_cluster)\n",
    "\n",
    "# Lấy nhãn của các cụm cho tập huấn luyện\n",
    "cluster_labels_train = kmeans.predict(X_cluster)\n",
    "\n",
    "# Tính giá trị trung bình của các mẫu trong mỗi cụm\n",
    "cluster_centers = kmeans.cluster_centers_\n",
    "\n",
    "# Dự đoán giá trung bình cho mỗi cụm\n",
    "cluster_prices = []\n",
    "for label in np.unique(cluster_labels_train):\n",
    "    cluster_prices.append(y_train[cluster_labels_train == label].mean())\n",
    "\n",
    "# Tạo một bảng dữ liệu mới chứa thông tin về cụm và giá trị dự đoán tương ứng\n",
    "cluster_data_train = pd.DataFrame({'cluster_label': np.unique(cluster_labels_train), 'cluster_price': cluster_prices})\n",
    "\n",
    "# Thêm cột cluster_label vào tập kiểm tra\n",
    "X_test['cluster_label'] = kmeans.predict(X_test[['size', 'rooms']])\n",
    "\n",
    "# Merge với bảng cluster_data_train để lấy giá trị dự đoán cho mỗi cụm\n",
    "X_test_merged = pd.merge(X_test, cluster_data_train, on='cluster_label', how='left')\n",
    "\n",
    "# Sử dụng Linear Regression để dự đoán giá dựa trên đặc trưng và giá trị dự đoán từ KMeans\n",
    "model = LinearRegression()\n",
    "model.fit(X_test_merged.drop(columns=['cluster_label']), y_test)\n",
    "\n",
    "# Đánh giá mô hình trên tập kiểm tra\n",
    "test_score = model.score(X_test_merged.drop(columns=['cluster_label']), y_test)\n",
    "\n",
    "print(\"R^2 Score on Test Data:\", test_score)\n"
   ]
  },
  {
   "cell_type": "code",
   "execution_count": null,
   "id": "6fe3f987-b2c7-4543-a617-94294caf50df",
   "metadata": {},
   "outputs": [],
   "source": []
  }
 ],
 "metadata": {
  "kernelspec": {
   "display_name": "Python 3 (ipykernel)",
   "language": "python",
   "name": "python3"
  },
  "language_info": {
   "codemirror_mode": {
    "name": "ipython",
    "version": 3
   },
   "file_extension": ".py",
   "mimetype": "text/x-python",
   "name": "python",
   "nbconvert_exporter": "python",
   "pygments_lexer": "ipython3",
   "version": "3.11.7"
  }
 },
 "nbformat": 4,
 "nbformat_minor": 5
}
