{
 "cells": [
  {
   "cell_type": "markdown",
   "metadata": {
    "id": "WOw8yMd1VlnD"
   },
   "source": [
    "# Data Preprocessing "
   ]
  },
  {
   "cell_type": "markdown",
   "metadata": {
    "id": "NvUGC8QQV6bV"
   },
   "source": [
    "## Importing the libraries"
   ]
  },
  {
   "cell_type": "code",
   "execution_count": 36,
   "metadata": {
    "id": "wfFEXZC0WS-V"
   },
   "outputs": [],
   "source": [
    "import numpy as np\n",
    "import matplotlib.pyplot as plt\n",
    "import seaborn as sns\n",
    "import pandas as pd\n",
    "from sklearn.preprocessing import LabelEncoder\n",
    "from sklearn.model_selection import train_test_split"
   ]
  },
  {
   "cell_type": "markdown",
   "metadata": {
    "id": "fhYaZ-ENV_c5"
   },
   "source": [
    "## Importing the dataset"
   ]
  },
  {
   "cell_type": "code",
   "execution_count": 37,
   "metadata": {
    "id": "aqHTg9bxWT_u"
   },
   "outputs": [],
   "source": [
    "df1 = pd.read_csv('real_estate_data.csv')"
   ]
  },
  {
   "cell_type": "code",
   "execution_count": 38,
   "metadata": {},
   "outputs": [],
   "source": [
    "df2 = pd.read_csv('projects_data.csv')"
   ]
  },
  {
   "cell_type": "markdown",
   "metadata": {},
   "source": [
    "### MERGE DATAFRAME"
   ]
  },
  {
   "cell_type": "code",
   "execution_count": 39,
   "metadata": {},
   "outputs": [],
   "source": [
    "# Join hai DataFrame lại với nhau\n",
    "merged_df = pd.merge(df1, df2, on='project_oid', how='inner')"
   ]
  },
  {
   "cell_type": "code",
   "execution_count": 40,
   "metadata": {},
   "outputs": [
    {
     "data": {
      "text/html": [
       "<div>\n",
       "<style scoped>\n",
       "    .dataframe tbody tr th:only-of-type {\n",
       "        vertical-align: middle;\n",
       "    }\n",
       "\n",
       "    .dataframe tbody tr th {\n",
       "        vertical-align: top;\n",
       "    }\n",
       "\n",
       "    .dataframe thead th {\n",
       "        text-align: right;\n",
       "    }\n",
       "</style>\n",
       "<table border=\"1\" class=\"dataframe\">\n",
       "  <thead>\n",
       "    <tr style=\"text-align: right;\">\n",
       "      <th></th>\n",
       "      <th>ad_id</th>\n",
       "      <th>list_id</th>\n",
       "      <th>list_time</th>\n",
       "      <th>date</th>\n",
       "      <th>account_id</th>\n",
       "      <th>projectid</th>\n",
       "      <th>project_oid</th>\n",
       "      <th>account_oid</th>\n",
       "      <th>account_name</th>\n",
       "      <th>state</th>\n",
       "      <th>...</th>\n",
       "      <th>street_name</th>\n",
       "      <th>area_v2</th>\n",
       "      <th>web_url</th>\n",
       "      <th>facilities_key</th>\n",
       "      <th>surrounding_key</th>\n",
       "      <th>investor_id</th>\n",
       "      <th>investor_name</th>\n",
       "      <th>paid_time</th>\n",
       "      <th>short_introduction_content</th>\n",
       "      <th>full_url_with_params</th>\n",
       "    </tr>\n",
       "  </thead>\n",
       "  <tbody>\n",
       "    <tr>\n",
       "      <th>0</th>\n",
       "      <td>149173109</td>\n",
       "      <td>109212357</td>\n",
       "      <td>1.712927e+12</td>\n",
       "      <td>3 ngày trước</td>\n",
       "      <td>4735114</td>\n",
       "      <td>2464</td>\n",
       "      <td>1582239957</td>\n",
       "      <td>b144d70d0cf27d2fb85f9acec319e1ad</td>\n",
       "      <td>MR TOÀN</td>\n",
       "      <td>accepted</td>\n",
       "      <td>...</td>\n",
       "      <td>Nguyễn Văn Cừ</td>\n",
       "      <td>Huyện Nhơn Trạch</td>\n",
       "      <td>https://www.nhatot.com/du-an-khu-do-thi-dta-nh...</td>\n",
       "      <td>['play_ground', 'fire_alarm', 'elevator', 'par...</td>\n",
       "      <td>['school', 'hospital', 'atm', 'banks']</td>\n",
       "      <td>378</td>\n",
       "      <td>Công ty Cổ phần Đệ Tam (DTA)</td>\n",
       "      <td>1500192200337</td>\n",
       "      <td>1.Vị trí:Dự án khu đô thị DETACO NHƠN TRẠCH củ...</td>\n",
       "      <td>https://gateway.chotot.com/v1/public/api-pty/p...</td>\n",
       "    </tr>\n",
       "    <tr>\n",
       "      <th>1</th>\n",
       "      <td>156266188</td>\n",
       "      <td>115304264</td>\n",
       "      <td>1.712549e+12</td>\n",
       "      <td>1 tuần trước</td>\n",
       "      <td>19890442</td>\n",
       "      <td>2464</td>\n",
       "      <td>1582239957</td>\n",
       "      <td>2ca66c644efc61538b5b8c566a7b3601</td>\n",
       "      <td>Phước Bình Land</td>\n",
       "      <td>accepted</td>\n",
       "      <td>...</td>\n",
       "      <td>Đường Nguyễn Văn Cừ</td>\n",
       "      <td>Huyện Nhơn Trạch</td>\n",
       "      <td>https://www.nhatot.com/du-an-khu-do-thi-dta-nh...</td>\n",
       "      <td>['play_ground', 'fire_alarm', 'elevator', 'par...</td>\n",
       "      <td>['school', 'hospital', 'atm', 'banks']</td>\n",
       "      <td>378</td>\n",
       "      <td>Công ty Cổ phần Đệ Tam (DTA)</td>\n",
       "      <td>1500192200337</td>\n",
       "      <td>1.Vị trí:Dự án khu đô thị DETACO NHƠN TRẠCH củ...</td>\n",
       "      <td>https://gateway.chotot.com/v1/public/api-pty/p...</td>\n",
       "    </tr>\n",
       "    <tr>\n",
       "      <th>2</th>\n",
       "      <td>156220843</td>\n",
       "      <td>115265512</td>\n",
       "      <td>1.712246e+12</td>\n",
       "      <td>2 tuần trước</td>\n",
       "      <td>9809355</td>\n",
       "      <td>2464</td>\n",
       "      <td>1582239957</td>\n",
       "      <td>9e980419635ca710ce81ced52d1fd372</td>\n",
       "      <td>DIEM</td>\n",
       "      <td>accepted</td>\n",
       "      <td>...</td>\n",
       "      <td>Nguyễn Văn Cừ</td>\n",
       "      <td>Huyện Nhơn Trạch</td>\n",
       "      <td>https://www.nhatot.com/du-an-khu-do-thi-dta-nh...</td>\n",
       "      <td>['play_ground', 'fire_alarm', 'elevator', 'par...</td>\n",
       "      <td>['school', 'hospital', 'atm', 'banks']</td>\n",
       "      <td>378</td>\n",
       "      <td>Công ty Cổ phần Đệ Tam (DTA)</td>\n",
       "      <td>1500192200337</td>\n",
       "      <td>1.Vị trí:Dự án khu đô thị DETACO NHƠN TRẠCH củ...</td>\n",
       "      <td>https://gateway.chotot.com/v1/public/api-pty/p...</td>\n",
       "    </tr>\n",
       "    <tr>\n",
       "      <th>3</th>\n",
       "      <td>155978499</td>\n",
       "      <td>115057158</td>\n",
       "      <td>1.711619e+12</td>\n",
       "      <td>3 tuần trước</td>\n",
       "      <td>25481412</td>\n",
       "      <td>2464</td>\n",
       "      <td>1582239957</td>\n",
       "      <td>ed86d1bdfae46ca66407c9ea8588d034</td>\n",
       "      <td>Nguyễn Khắc Thành</td>\n",
       "      <td>accepted</td>\n",
       "      <td>...</td>\n",
       "      <td>Nguyễn Văn Cừ</td>\n",
       "      <td>Huyện Nhơn Trạch</td>\n",
       "      <td>https://www.nhatot.com/du-an-khu-do-thi-dta-nh...</td>\n",
       "      <td>['play_ground', 'fire_alarm', 'elevator', 'par...</td>\n",
       "      <td>['school', 'hospital', 'atm', 'banks']</td>\n",
       "      <td>378</td>\n",
       "      <td>Công ty Cổ phần Đệ Tam (DTA)</td>\n",
       "      <td>1500192200337</td>\n",
       "      <td>1.Vị trí:Dự án khu đô thị DETACO NHƠN TRẠCH củ...</td>\n",
       "      <td>https://gateway.chotot.com/v1/public/api-pty/p...</td>\n",
       "    </tr>\n",
       "    <tr>\n",
       "      <th>4</th>\n",
       "      <td>155935060</td>\n",
       "      <td>115019801</td>\n",
       "      <td>1.711522e+12</td>\n",
       "      <td>3 tuần trước</td>\n",
       "      <td>3737279</td>\n",
       "      <td>2464</td>\n",
       "      <td>1582239957</td>\n",
       "      <td>569a0038167cba4a32f856190c415c76</td>\n",
       "      <td>Khanh</td>\n",
       "      <td>accepted</td>\n",
       "      <td>...</td>\n",
       "      <td>Nguyễn Văn Cừ</td>\n",
       "      <td>Huyện Nhơn Trạch</td>\n",
       "      <td>https://www.nhatot.com/du-an-khu-do-thi-dta-nh...</td>\n",
       "      <td>['play_ground', 'fire_alarm', 'elevator', 'par...</td>\n",
       "      <td>['school', 'hospital', 'atm', 'banks']</td>\n",
       "      <td>378</td>\n",
       "      <td>Công ty Cổ phần Đệ Tam (DTA)</td>\n",
       "      <td>1500192200337</td>\n",
       "      <td>1.Vị trí:Dự án khu đô thị DETACO NHƠN TRẠCH củ...</td>\n",
       "      <td>https://gateway.chotot.com/v1/public/api-pty/p...</td>\n",
       "    </tr>\n",
       "  </tbody>\n",
       "</table>\n",
       "<p>5 rows × 44 columns</p>\n",
       "</div>"
      ],
      "text/plain": [
       "       ad_id    list_id     list_time          date  account_id  projectid  \\\n",
       "0  149173109  109212357  1.712927e+12  3 ngày trước     4735114       2464   \n",
       "1  156266188  115304264  1.712549e+12  1 tuần trước    19890442       2464   \n",
       "2  156220843  115265512  1.712246e+12  2 tuần trước     9809355       2464   \n",
       "3  155978499  115057158  1.711619e+12  3 tuần trước    25481412       2464   \n",
       "4  155935060  115019801  1.711522e+12  3 tuần trước     3737279       2464   \n",
       "\n",
       "   project_oid                       account_oid       account_name     state  \\\n",
       "0   1582239957  b144d70d0cf27d2fb85f9acec319e1ad            MR TOÀN  accepted   \n",
       "1   1582239957  2ca66c644efc61538b5b8c566a7b3601    Phước Bình Land  accepted   \n",
       "2   1582239957  9e980419635ca710ce81ced52d1fd372               DIEM  accepted   \n",
       "3   1582239957  ed86d1bdfae46ca66407c9ea8588d034  Nguyễn Khắc Thành  accepted   \n",
       "4   1582239957  569a0038167cba4a32f856190c415c76              Khanh  accepted   \n",
       "\n",
       "   ...          street_name           area_v2  \\\n",
       "0  ...        Nguyễn Văn Cừ  Huyện Nhơn Trạch   \n",
       "1  ...  Đường Nguyễn Văn Cừ  Huyện Nhơn Trạch   \n",
       "2  ...        Nguyễn Văn Cừ  Huyện Nhơn Trạch   \n",
       "3  ...        Nguyễn Văn Cừ  Huyện Nhơn Trạch   \n",
       "4  ...        Nguyễn Văn Cừ  Huyện Nhơn Trạch   \n",
       "\n",
       "                                             web_url  \\\n",
       "0  https://www.nhatot.com/du-an-khu-do-thi-dta-nh...   \n",
       "1  https://www.nhatot.com/du-an-khu-do-thi-dta-nh...   \n",
       "2  https://www.nhatot.com/du-an-khu-do-thi-dta-nh...   \n",
       "3  https://www.nhatot.com/du-an-khu-do-thi-dta-nh...   \n",
       "4  https://www.nhatot.com/du-an-khu-do-thi-dta-nh...   \n",
       "\n",
       "                                      facilities_key  \\\n",
       "0  ['play_ground', 'fire_alarm', 'elevator', 'par...   \n",
       "1  ['play_ground', 'fire_alarm', 'elevator', 'par...   \n",
       "2  ['play_ground', 'fire_alarm', 'elevator', 'par...   \n",
       "3  ['play_ground', 'fire_alarm', 'elevator', 'par...   \n",
       "4  ['play_ground', 'fire_alarm', 'elevator', 'par...   \n",
       "\n",
       "                          surrounding_key investor_id  \\\n",
       "0  ['school', 'hospital', 'atm', 'banks']         378   \n",
       "1  ['school', 'hospital', 'atm', 'banks']         378   \n",
       "2  ['school', 'hospital', 'atm', 'banks']         378   \n",
       "3  ['school', 'hospital', 'atm', 'banks']         378   \n",
       "4  ['school', 'hospital', 'atm', 'banks']         378   \n",
       "\n",
       "                  investor_name      paid_time  \\\n",
       "0  Công ty Cổ phần Đệ Tam (DTA)  1500192200337   \n",
       "1  Công ty Cổ phần Đệ Tam (DTA)  1500192200337   \n",
       "2  Công ty Cổ phần Đệ Tam (DTA)  1500192200337   \n",
       "3  Công ty Cổ phần Đệ Tam (DTA)  1500192200337   \n",
       "4  Công ty Cổ phần Đệ Tam (DTA)  1500192200337   \n",
       "\n",
       "                          short_introduction_content  \\\n",
       "0  1.Vị trí:Dự án khu đô thị DETACO NHƠN TRẠCH củ...   \n",
       "1  1.Vị trí:Dự án khu đô thị DETACO NHƠN TRẠCH củ...   \n",
       "2  1.Vị trí:Dự án khu đô thị DETACO NHƠN TRẠCH củ...   \n",
       "3  1.Vị trí:Dự án khu đô thị DETACO NHƠN TRẠCH củ...   \n",
       "4  1.Vị trí:Dự án khu đô thị DETACO NHƠN TRẠCH củ...   \n",
       "\n",
       "                                full_url_with_params  \n",
       "0  https://gateway.chotot.com/v1/public/api-pty/p...  \n",
       "1  https://gateway.chotot.com/v1/public/api-pty/p...  \n",
       "2  https://gateway.chotot.com/v1/public/api-pty/p...  \n",
       "3  https://gateway.chotot.com/v1/public/api-pty/p...  \n",
       "4  https://gateway.chotot.com/v1/public/api-pty/p...  \n",
       "\n",
       "[5 rows x 44 columns]"
      ]
     },
     "execution_count": 40,
     "metadata": {},
     "output_type": "execute_result"
    }
   ],
   "source": [
    "# Hiển thị kết quả\n",
    "merged_df.head()"
   ]
  },
  {
   "cell_type": "markdown",
   "metadata": {},
   "source": [
    "### THU GIẢM DỮ LIỆU"
   ]
  },
  {
   "cell_type": "code",
   "execution_count": 41,
   "metadata": {},
   "outputs": [],
   "source": [
    "# Loại bỏ cột không sử dụng\n",
    "columns_to_drop = ['ad_id'\n",
    "                   , 'list_id'\n",
    "                   ,'list_time'\n",
    "                   ,'date'\n",
    "                   ,'account_id'\n",
    "                   ,'account_oid'\n",
    "                   ,'account_name'\n",
    "                   ,'state'\n",
    "                   ,'region_v2'\n",
    "                   ,'type'\n",
    "                   ,'price_string'\n",
    "                   ,'escrow_can_deposit'\n",
    "                   ,'params','paid_time'\n",
    "                   ,'short_introduction_content'\n",
    "                   ,'state'\n",
    "                   ,'body'\n",
    "                   ,'area'\n",
    "                   ,'region'\n",
    "                   ,'type'\n",
    "                   ,'price_string'\n",
    "                   ,'company_ad'\n",
    "                   ,'region'\n",
    "                   ,'ward'\n",
    "                   ,'location'\n",
    "                   ,'longitude'\n",
    "                   ,'latitude'\n",
    "                   ,'escrow_can_deposit'\n",
    "                   ,'params'\n",
    "                   ,'category'\n",
    "                   ,'zero_deposit'\n",
    "                   ,'web_url'\n",
    "                   ,'short_introduction_content'\n",
    "                   ,'full_url_with_params']\n",
    "merged_df = merged_df.drop(columns=columns_to_drop)"
   ]
  },
  {
   "cell_type": "code",
   "execution_count": 42,
   "metadata": {},
   "outputs": [
    {
     "name": "stdout",
     "output_type": "stream",
     "text": [
      "       projectid  project_oid  \\\n",
      "0           2464   1582239957   \n",
      "1           2464   1582239957   \n",
      "2           2464   1582239957   \n",
      "3           2464   1582239957   \n",
      "4           2464   1582239957   \n",
      "...          ...          ...   \n",
      "10794       3931   1833333982   \n",
      "10795       4397   1312047912   \n",
      "10796       4818    453709511   \n",
      "10797       4266   1964432767   \n",
      "10798       4460   1786510809   \n",
      "\n",
      "                                                 subject    category_name  \\\n",
      "0      chủ vỡ nợ ban gấp nhà DTA 100m2 1 trệt 1 lầu t...            Nhà ở   \n",
      "1                                  Hàng ngộp cần bán gấp            Nhà ở   \n",
      "2                                           kẹt tiền trả            Nhà ở   \n",
      "3      Chính Chủ Cần Bán Gấp Căn Nhà Dự Án DTA giá bá...            Nhà ở   \n",
      "4      Chính chủ bán lỗ căn chung 33m2 xã Phước An gầ...  Căn hộ/Chung cư   \n",
      "...                                                  ...              ...   \n",
      "10794             chính chủ cần bán lô Tân Long 1 sổ sẵn              Đất   \n",
      "10795       BÁN 2 LÔ LIỀN KỀ A29 A30 OSAKA 2 VÕ VĂN BÍCH              Đất   \n",
      "10796  Chính chủ bán căn hộ An Hội. Tặng nội thất cao...  Căn hộ/Chung cư   \n",
      "10797         Biệt thự liền kề tại Đông Anh chỉ hơn 6 tỷ            Nhà ở   \n",
      "10798  Chính chủ Trần Quang Tông bán lô mặt tiền HÙNG...              Đất   \n",
      "\n",
      "              area_name     region_name         price  rooms    size  \\\n",
      "0      Huyện Nhơn Trạch        Đồng Nai  2.000000e+09    2.0   100.0   \n",
      "1      Huyện Nhơn Trạch        Đồng Nai  2.100000e+09    2.0   100.0   \n",
      "2      Huyện Nhơn Trạch        Đồng Nai  3.333333e+10    3.0  1000.0   \n",
      "3      Huyện Nhơn Trạch        Đồng Nai  1.300000e+09    2.0   105.0   \n",
      "4      Huyện Nhơn Trạch        Đồng Nai  3.500000e+08    1.0    33.0   \n",
      "...                 ...             ...           ...    ...     ...   \n",
      "10794   Thị xã Tân Uyên      Bình Dương  1.300000e+09    NaN    75.0   \n",
      "10795      Huyện Củ Chi  Tp Hồ Chí Minh  1.650000e+09    NaN    81.0   \n",
      "10796       Quận Gò Vấp  Tp Hồ Chí Minh  1.750000e+09    2.0    78.0   \n",
      "10797    Huyện Đông Anh          Hà Nội  6.500000e+09    4.0    70.0   \n",
      "10798      Huyện Đắk Hà         Kon Tum  8.600000e+08    NaN   180.0   \n",
      "\n",
      "               ward_name  price_million_per_m2  \\\n",
      "0            Xã Phước An             20.000000   \n",
      "1            Xã Phước An             21.000000   \n",
      "2            Xã Phước An             33.333333   \n",
      "3            Xã Phước An             12.380952   \n",
      "4            Xã Phước An             10.606061   \n",
      "...                  ...                   ...   \n",
      "10794   Phường Uyên Hưng             17.333333   \n",
      "10795         Xã Bình Mỹ             20.370370   \n",
      "10796          Phường 14             22.435897   \n",
      "10797  Thị trấn Đông Anh             92.857143   \n",
      "10798    Thị trấn Đắk Hà              4.777778   \n",
      "\n",
      "                                        street_name           area_v2  \\\n",
      "0                                     Nguyễn Văn Cừ  Huyện Nhơn Trạch   \n",
      "1                               Đường Nguyễn Văn Cừ  Huyện Nhơn Trạch   \n",
      "2                                     Nguyễn Văn Cừ  Huyện Nhơn Trạch   \n",
      "3                                     Nguyễn Văn Cừ  Huyện Nhơn Trạch   \n",
      "4                                     Nguyễn Văn Cừ  Huyện Nhơn Trạch   \n",
      "...                                             ...               ...   \n",
      "10794                                     Uyên Hưng   Thị xã Tân Uyên   \n",
      "10795                                       Bình Mỹ      Huyện Củ Chi   \n",
      "10796                                     Nguyên Xá       Quận Gò Vấp   \n",
      "10797  Tổ 53, Thị trấn Đông Anh, Đông Anh, Hà Nội    Huyện Đông Anh   \n",
      "10798                                    Hùng Vương      Huyện Đắk Hà   \n",
      "\n",
      "                                          facilities_key  \\\n",
      "0      ['play_ground', 'fire_alarm', 'elevator', 'par...   \n",
      "1      ['play_ground', 'fire_alarm', 'elevator', 'par...   \n",
      "2      ['play_ground', 'fire_alarm', 'elevator', 'par...   \n",
      "3      ['play_ground', 'fire_alarm', 'elevator', 'par...   \n",
      "4      ['play_ground', 'fire_alarm', 'elevator', 'par...   \n",
      "...                                                  ...   \n",
      "10794                                                 []   \n",
      "10795                                                 []   \n",
      "10796                                                 []   \n",
      "10797  ['sports_area', 'elevator', 'spa', 'bbq', 'sec...   \n",
      "10798                                                 []   \n",
      "\n",
      "                                         surrounding_key  investor_id  \\\n",
      "0                 ['school', 'hospital', 'atm', 'banks']          378   \n",
      "1                 ['school', 'hospital', 'atm', 'banks']          378   \n",
      "2                 ['school', 'hospital', 'atm', 'banks']          378   \n",
      "3                 ['school', 'hospital', 'atm', 'banks']          378   \n",
      "4                 ['school', 'hospital', 'atm', 'banks']          378   \n",
      "...                                                  ...          ...   \n",
      "10794                                                 []         1690   \n",
      "10795                                                 []          698   \n",
      "10796  ['school', 'market', 'hospital', 'kindergarten...         1458   \n",
      "10797       ['market', 'hospital', 'restaurants', 'atm']         1772   \n",
      "10798                                                 []         1825   \n",
      "\n",
      "                           investor_name  \n",
      "0           Công ty Cổ phần Đệ Tam (DTA)  \n",
      "1           Công ty Cổ phần Đệ Tam (DTA)  \n",
      "2           Công ty Cổ phần Đệ Tam (DTA)  \n",
      "3           Công ty Cổ phần Đệ Tam (DTA)  \n",
      "4           Công ty Cổ phần Đệ Tam (DTA)  \n",
      "...                                  ...  \n",
      "10794          PHÁT TRIỂN NHÀ BÌNH DƯƠNG  \n",
      "10795                       Nhất Nam CIC  \n",
      "10796  TỔNG CÔNG TY ĐỊA ỐC SÀI GÒN RESCO  \n",
      "10797         Phát triển Đô thị Đông Anh  \n",
      "10798                         BrightLand  \n",
      "\n",
      "[10799 rows x 17 columns]\n"
     ]
    }
   ],
   "source": [
    "print(merged_df)"
   ]
  },
  {
   "cell_type": "markdown",
   "metadata": {},
   "source": [
    "### Xử lý dữ liệu trùng lặp"
   ]
  },
  {
   "cell_type": "code",
   "execution_count": 43,
   "metadata": {},
   "outputs": [],
   "source": [
    "# Đếm số lượng dữ liệu trùng lặp\n",
    "duplicate_count = merged_df.duplicated().sum()"
   ]
  },
  {
   "cell_type": "code",
   "execution_count": 44,
   "metadata": {},
   "outputs": [
    {
     "name": "stdout",
     "output_type": "stream",
     "text": [
      "Số lượng dữ liệu trùng lặp trước khi xử lý: 75\n"
     ]
    }
   ],
   "source": [
    "print(f\"Số lượng dữ liệu trùng lặp trước khi xử lý: {duplicate_count}\")"
   ]
  },
  {
   "cell_type": "code",
   "execution_count": 45,
   "metadata": {},
   "outputs": [],
   "source": [
    "# Xử lý dữ liệu trùng lặp\n",
    "merged_df.drop_duplicates(inplace=True)"
   ]
  },
  {
   "cell_type": "code",
   "execution_count": 46,
   "metadata": {},
   "outputs": [],
   "source": [
    "# Đếm số lượng dữ liệu trùng lặp sau khi xử lý\n",
    "duplicate_count = merged_df.duplicated().sum()"
   ]
  },
  {
   "cell_type": "code",
   "execution_count": 47,
   "metadata": {},
   "outputs": [
    {
     "name": "stdout",
     "output_type": "stream",
     "text": [
      "Số lượng dữ liệu lặp sau xử lý: 0\n"
     ]
    }
   ],
   "source": [
    "print(f\"Số lượng dữ liệu lặp sau xử lý: {duplicate_count}\")"
   ]
  },
  {
   "cell_type": "markdown",
   "metadata": {
    "id": "cYlKy8cAB1TB"
   },
   "source": [
    "### Thay thế dữ liệu thiếu\n",
    "Các tập dữ liệu thường chứa các giá trị thiếu, điều này có thể gây ra vấn đề cho các thuật toán học máy. Thay thế dữ liệu thiếu được gọi là bù đắp dữ liệu (data imputation)."
   ]
  },
  {
   "cell_type": "code",
   "execution_count": 48,
   "metadata": {},
   "outputs": [
    {
     "name": "stdout",
     "output_type": "stream",
     "text": [
      ">0,  missing entries: 0, percentage 0.00\n",
      ">1,  missing entries: 0, percentage 0.00\n",
      ">2,  missing entries: 0, percentage 0.00\n",
      ">3,  missing entries: 0, percentage 0.00\n",
      ">4,  missing entries: 0, percentage 0.00\n",
      ">5,  missing entries: 0, percentage 0.00\n",
      ">6,  missing entries: 2, percentage 0.02\n",
      ">7,  missing entries: 1028, percentage 9.59\n",
      ">8,  missing entries: 0, percentage 0.00\n",
      ">9,  missing entries: 2, percentage 0.02\n",
      ">10,  missing entries: 2, percentage 0.02\n",
      ">11,  missing entries: 4, percentage 0.04\n",
      ">12,  missing entries: 0, percentage 0.00\n",
      ">13,  missing entries: 0, percentage 0.00\n",
      ">14,  missing entries: 0, percentage 0.00\n",
      ">15,  missing entries: 0, percentage 0.00\n",
      ">16,  missing entries: 250, percentage 2.33\n"
     ]
    }
   ],
   "source": [
    "for i in range(len(merged_df.columns)):\n",
    "    missing_data = merged_df[merged_df.columns[i]].isna().sum()\n",
    "    perc = missing_data / len(merged_df) * 100\n",
    "    print('>%d,  missing entries: %d, percentage %.2f' % (i, missing_data, perc))"
   ]
  },
  {
   "cell_type": "code",
   "execution_count": 49,
   "metadata": {},
   "outputs": [
    {
     "name": "stdout",
     "output_type": "stream",
     "text": [
      "Số lượng giá trị thiếu trong mỗi cột:\n",
      "projectid                  0\n",
      "project_oid                0\n",
      "subject                    0\n",
      "category_name              0\n",
      "area_name                  0\n",
      "region_name                0\n",
      "price                      2\n",
      "rooms                   1028\n",
      "size                       0\n",
      "ward_name                  2\n",
      "price_million_per_m2       2\n",
      "street_name                4\n",
      "area_v2                    0\n",
      "facilities_key             0\n",
      "surrounding_key            0\n",
      "investor_id                0\n",
      "investor_name            250\n",
      "dtype: int64\n"
     ]
    }
   ],
   "source": [
    "# Đếm số lượng giá trị thiếu trong mỗi cột\n",
    "missing_values_count = merged_df.isnull().sum()\n",
    "\n",
    "print(\"Số lượng giá trị thiếu trong mỗi cột:\")\n",
    "print(missing_values_count)"
   ]
  },
  {
   "cell_type": "code",
   "execution_count": 50,
   "metadata": {},
   "outputs": [
    {
     "data": {
      "text/plain": [
       "<Axes: >"
      ]
     },
     "execution_count": 50,
     "metadata": {},
     "output_type": "execute_result"
    },
    {
     "data": {
      "image/png": "[encoded data removed]",
      "text/plain": [
       "<Figure size 400x400 with 1 Axes>"
      ]
     },
     "metadata": {},
     "output_type": "display_data"
    }
   ],
   "source": [
    "plt.figure(figsize = (4,4)) #hiển thị các giá trị thiếu trong tập dữ liệu\n",
    "sns.heatmap(merged_df.isna(), cbar=False, cmap='viridis', yticklabels=False)"
   ]
  },
  {
   "cell_type": "code",
   "execution_count": 51,
   "metadata": {},
   "outputs": [],
   "source": [
    "# Điền giá trị trung bình cho các cột dữ liệu thiếu\n",
    "merged_df['price'].fillna(merged_df['price'].mean(), inplace=True)\n",
    "merged_df['rooms'].fillna(merged_df['rooms'].mean(), inplace=True)\n",
    "merged_df['price_million_per_m2'].fillna(merged_df['price_million_per_m2'].mean(), inplace=True)"
   ]
  },
  {
   "cell_type": "code",
   "execution_count": 52,
   "metadata": {},
   "outputs": [
    {
     "name": "stdout",
     "output_type": "stream",
     "text": [
      "projectid                 0\n",
      "project_oid               0\n",
      "subject                   0\n",
      "category_name             0\n",
      "area_name                 0\n",
      "region_name               0\n",
      "price                     0\n",
      "rooms                     0\n",
      "size                      0\n",
      "ward_name                 2\n",
      "price_million_per_m2      0\n",
      "street_name               4\n",
      "area_v2                   0\n",
      "facilities_key            0\n",
      "surrounding_key           0\n",
      "investor_id               0\n",
      "investor_name           250\n",
      "dtype: int64\n"
     ]
    }
   ],
   "source": [
    "# Kiểm tra lại DataFrame sau khi điền giá trị thiếu\n",
    "print(merged_df.isnull().sum())"
   ]
  },
  {
   "cell_type": "markdown",
   "metadata": {},
   "source": [
    "#### Do các thuộc tính ward_name, street_name, investor_name không phải số nên chúng ta sẽ xử lý sau"
   ]
  },
  {
   "cell_type": "code",
   "execution_count": 53,
   "metadata": {},
   "outputs": [],
   "source": [
    "# Danh sách các cột bạn muốn kiểm tra null\n",
    "# Do các có ít bản ghi là string nên ta loại bỏ cũng không ảnh hưởng nhiều đến kết quả train\n",
    "columns_to_check_null = ['ward_name', 'street_name', 'investor_name']  # Thay thế bằng tên của các cột bạn muốn kiểm tra null\n",
    "\n",
    "# Loại bỏ dòng có giá trị null trong các cột đã chỉ định\n",
    "merged_df = merged_df.dropna(subset=columns_to_check_null)\n"
   ]
  },
  {
   "cell_type": "code",
   "execution_count": 54,
   "metadata": {},
   "outputs": [
    {
     "name": "stdout",
     "output_type": "stream",
     "text": [
      "projectid               0\n",
      "project_oid             0\n",
      "subject                 0\n",
      "category_name           0\n",
      "area_name               0\n",
      "region_name             0\n",
      "price                   0\n",
      "rooms                   0\n",
      "size                    0\n",
      "ward_name               0\n",
      "price_million_per_m2    0\n",
      "street_name             0\n",
      "area_v2                 0\n",
      "facilities_key          0\n",
      "surrounding_key         0\n",
      "investor_id             0\n",
      "investor_name           0\n",
      "dtype: int64\n"
     ]
    }
   ],
   "source": [
    "# Kiểm tra lại DataFrame sau khi điền giá trị thiếu\n",
    "print(merged_df.isnull().sum())"
   ]
  },
  {
   "cell_type": "code",
   "execution_count": 55,
   "metadata": {},
   "outputs": [
    {
     "name": "stdout",
     "output_type": "stream",
     "text": [
      "       projectid  project_oid  \\\n",
      "0           2464   1582239957   \n",
      "1           2464   1582239957   \n",
      "2           2464   1582239957   \n",
      "3           2464   1582239957   \n",
      "4           2464   1582239957   \n",
      "...          ...          ...   \n",
      "10794       3931   1833333982   \n",
      "10795       4397   1312047912   \n",
      "10796       4818    453709511   \n",
      "10797       4266   1964432767   \n",
      "10798       4460   1786510809   \n",
      "\n",
      "                                                 subject    category_name  \\\n",
      "0      chủ vỡ nợ ban gấp nhà DTA 100m2 1 trệt 1 lầu t...            Nhà ở   \n",
      "1                                  Hàng ngộp cần bán gấp            Nhà ở   \n",
      "2                                           kẹt tiền trả            Nhà ở   \n",
      "3      Chính Chủ Cần Bán Gấp Căn Nhà Dự Án DTA giá bá...            Nhà ở   \n",
      "4      Chính chủ bán lỗ căn chung 33m2 xã Phước An gầ...  Căn hộ/Chung cư   \n",
      "...                                                  ...              ...   \n",
      "10794             chính chủ cần bán lô Tân Long 1 sổ sẵn              Đất   \n",
      "10795       BÁN 2 LÔ LIỀN KỀ A29 A30 OSAKA 2 VÕ VĂN BÍCH              Đất   \n",
      "10796  Chính chủ bán căn hộ An Hội. Tặng nội thất cao...  Căn hộ/Chung cư   \n",
      "10797         Biệt thự liền kề tại Đông Anh chỉ hơn 6 tỷ            Nhà ở   \n",
      "10798  Chính chủ Trần Quang Tông bán lô mặt tiền HÙNG...              Đất   \n",
      "\n",
      "              area_name     region_name         price     rooms    size  \\\n",
      "0      Huyện Nhơn Trạch        Đồng Nai  2.000000e+09  2.000000   100.0   \n",
      "1      Huyện Nhơn Trạch        Đồng Nai  2.100000e+09  2.000000   100.0   \n",
      "2      Huyện Nhơn Trạch        Đồng Nai  3.333333e+10  3.000000  1000.0   \n",
      "3      Huyện Nhơn Trạch        Đồng Nai  1.300000e+09  2.000000   105.0   \n",
      "4      Huyện Nhơn Trạch        Đồng Nai  3.500000e+08  1.000000    33.0   \n",
      "...                 ...             ...           ...       ...     ...   \n",
      "10794   Thị xã Tân Uyên      Bình Dương  1.300000e+09  2.290842    75.0   \n",
      "10795      Huyện Củ Chi  Tp Hồ Chí Minh  1.650000e+09  2.290842    81.0   \n",
      "10796       Quận Gò Vấp  Tp Hồ Chí Minh  1.750000e+09  2.000000    78.0   \n",
      "10797    Huyện Đông Anh          Hà Nội  6.500000e+09  4.000000    70.0   \n",
      "10798      Huyện Đắk Hà         Kon Tum  8.600000e+08  2.290842   180.0   \n",
      "\n",
      "               ward_name  price_million_per_m2  \\\n",
      "0            Xã Phước An             20.000000   \n",
      "1            Xã Phước An             21.000000   \n",
      "2            Xã Phước An             33.333333   \n",
      "3            Xã Phước An             12.380952   \n",
      "4            Xã Phước An             10.606061   \n",
      "...                  ...                   ...   \n",
      "10794   Phường Uyên Hưng             17.333333   \n",
      "10795         Xã Bình Mỹ             20.370370   \n",
      "10796          Phường 14             22.435897   \n",
      "10797  Thị trấn Đông Anh             92.857143   \n",
      "10798    Thị trấn Đắk Hà              4.777778   \n",
      "\n",
      "                                        street_name           area_v2  \\\n",
      "0                                     Nguyễn Văn Cừ  Huyện Nhơn Trạch   \n",
      "1                               Đường Nguyễn Văn Cừ  Huyện Nhơn Trạch   \n",
      "2                                     Nguyễn Văn Cừ  Huyện Nhơn Trạch   \n",
      "3                                     Nguyễn Văn Cừ  Huyện Nhơn Trạch   \n",
      "4                                     Nguyễn Văn Cừ  Huyện Nhơn Trạch   \n",
      "...                                             ...               ...   \n",
      "10794                                     Uyên Hưng   Thị xã Tân Uyên   \n",
      "10795                                       Bình Mỹ      Huyện Củ Chi   \n",
      "10796                                     Nguyên Xá       Quận Gò Vấp   \n",
      "10797  Tổ 53, Thị trấn Đông Anh, Đông Anh, Hà Nội    Huyện Đông Anh   \n",
      "10798                                    Hùng Vương      Huyện Đắk Hà   \n",
      "\n",
      "                                          facilities_key  \\\n",
      "0      ['play_ground', 'fire_alarm', 'elevator', 'par...   \n",
      "1      ['play_ground', 'fire_alarm', 'elevator', 'par...   \n",
      "2      ['play_ground', 'fire_alarm', 'elevator', 'par...   \n",
      "3      ['play_ground', 'fire_alarm', 'elevator', 'par...   \n",
      "4      ['play_ground', 'fire_alarm', 'elevator', 'par...   \n",
      "...                                                  ...   \n",
      "10794                                                 []   \n",
      "10795                                                 []   \n",
      "10796                                                 []   \n",
      "10797  ['sports_area', 'elevator', 'spa', 'bbq', 'sec...   \n",
      "10798                                                 []   \n",
      "\n",
      "                                         surrounding_key  investor_id  \\\n",
      "0                 ['school', 'hospital', 'atm', 'banks']          378   \n",
      "1                 ['school', 'hospital', 'atm', 'banks']          378   \n",
      "2                 ['school', 'hospital', 'atm', 'banks']          378   \n",
      "3                 ['school', 'hospital', 'atm', 'banks']          378   \n",
      "4                 ['school', 'hospital', 'atm', 'banks']          378   \n",
      "...                                                  ...          ...   \n",
      "10794                                                 []         1690   \n",
      "10795                                                 []          698   \n",
      "10796  ['school', 'market', 'hospital', 'kindergarten...         1458   \n",
      "10797       ['market', 'hospital', 'restaurants', 'atm']         1772   \n",
      "10798                                                 []         1825   \n",
      "\n",
      "                           investor_name  \n",
      "0           Công ty Cổ phần Đệ Tam (DTA)  \n",
      "1           Công ty Cổ phần Đệ Tam (DTA)  \n",
      "2           Công ty Cổ phần Đệ Tam (DTA)  \n",
      "3           Công ty Cổ phần Đệ Tam (DTA)  \n",
      "4           Công ty Cổ phần Đệ Tam (DTA)  \n",
      "...                                  ...  \n",
      "10794          PHÁT TRIỂN NHÀ BÌNH DƯƠNG  \n",
      "10795                       Nhất Nam CIC  \n",
      "10796  TỔNG CÔNG TY ĐỊA ỐC SÀI GÒN RESCO  \n",
      "10797         Phát triển Đô thị Đông Anh  \n",
      "10798                         BrightLand  \n",
      "\n",
      "[10470 rows x 17 columns]\n"
     ]
    }
   ],
   "source": [
    "print(merged_df)"
   ]
  },
  {
   "cell_type": "markdown",
   "metadata": {},
   "source": [
    "### Xử lý giá trị nhiễu"
   ]
  },
  {
   "cell_type": "code",
   "execution_count": 56,
   "metadata": {},
   "outputs": [
    {
     "data": {
      "text/html": [
       "<div>\n",
       "<style scoped>\n",
       "    .dataframe tbody tr th:only-of-type {\n",
       "        vertical-align: middle;\n",
       "    }\n",
       "\n",
       "    .dataframe tbody tr th {\n",
       "        vertical-align: top;\n",
       "    }\n",
       "\n",
       "    .dataframe thead th {\n",
       "        text-align: right;\n",
       "    }\n",
       "</style>\n",
       "<table border=\"1\" class=\"dataframe\">\n",
       "  <thead>\n",
       "    <tr style=\"text-align: right;\">\n",
       "      <th></th>\n",
       "      <th>projectid</th>\n",
       "      <th>project_oid</th>\n",
       "      <th>subject</th>\n",
       "      <th>category_name</th>\n",
       "      <th>area_name</th>\n",
       "      <th>region_name</th>\n",
       "      <th>price</th>\n",
       "      <th>rooms</th>\n",
       "      <th>size</th>\n",
       "      <th>ward_name</th>\n",
       "      <th>price_million_per_m2</th>\n",
       "      <th>street_name</th>\n",
       "      <th>area_v2</th>\n",
       "      <th>facilities_key</th>\n",
       "      <th>surrounding_key</th>\n",
       "      <th>investor_id</th>\n",
       "      <th>investor_name</th>\n",
       "    </tr>\n",
       "  </thead>\n",
       "  <tbody>\n",
       "    <tr>\n",
       "      <th>0</th>\n",
       "      <td>2464</td>\n",
       "      <td>1582239957</td>\n",
       "      <td>chủ vỡ nợ ban gấp nhà DTA 100m2 1 trệt 1 lầu t...</td>\n",
       "      <td>Nhà ở</td>\n",
       "      <td>Huyện Nhơn Trạch</td>\n",
       "      <td>Đồng Nai</td>\n",
       "      <td>2.000000e+09</td>\n",
       "      <td>2.0</td>\n",
       "      <td>100.0</td>\n",
       "      <td>Xã Phước An</td>\n",
       "      <td>20.0</td>\n",
       "      <td>Nguyễn Văn Cừ</td>\n",
       "      <td>Huyện Nhơn Trạch</td>\n",
       "      <td>['play_ground', 'fire_alarm', 'elevator', 'par...</td>\n",
       "      <td>['school', 'hospital', 'atm', 'banks']</td>\n",
       "      <td>378</td>\n",
       "      <td>Công ty Cổ phần Đệ Tam (DTA)</td>\n",
       "    </tr>\n",
       "  </tbody>\n",
       "</table>\n",
       "</div>"
      ],
      "text/plain": [
       "   projectid  project_oid                                            subject  \\\n",
       "0       2464   1582239957  chủ vỡ nợ ban gấp nhà DTA 100m2 1 trệt 1 lầu t...   \n",
       "\n",
       "  category_name         area_name region_name         price  rooms   size  \\\n",
       "0         Nhà ở  Huyện Nhơn Trạch    Đồng Nai  2.000000e+09    2.0  100.0   \n",
       "\n",
       "     ward_name  price_million_per_m2    street_name           area_v2  \\\n",
       "0  Xã Phước An                  20.0  Nguyễn Văn Cừ  Huyện Nhơn Trạch   \n",
       "\n",
       "                                      facilities_key  \\\n",
       "0  ['play_ground', 'fire_alarm', 'elevator', 'par...   \n",
       "\n",
       "                          surrounding_key  investor_id  \\\n",
       "0  ['school', 'hospital', 'atm', 'banks']          378   \n",
       "\n",
       "                  investor_name  \n",
       "0  Công ty Cổ phần Đệ Tam (DTA)  "
      ]
     },
     "execution_count": 56,
     "metadata": {},
     "output_type": "execute_result"
    }
   ],
   "source": [
    "merged_df.head(1)"
   ]
  },
  {
   "cell_type": "code",
   "execution_count": 63,
   "metadata": {},
   "outputs": [],
   "source": [
    "def handle_outliers(df, column_name, lower_percentile=0.05, upper_percentile=0.95):\n",
    "    \"\"\"\n",
    "    Hàm lọc giá trị nhiễu trong một cột của DataFrame bằng phương pháp Winsorizing.\n",
    "    \n",
    "    Parameters:\n",
    "    df (pd.DataFrame): DataFrame cần xử lý\n",
    "    column_name (str): Tên cột cần lọc giá trị nhiễu\n",
    "    lower_percentile (float): Phần trăm thấp hơn để xác định ngưỡng dưới (mặc định là 0.05)\n",
    "    upper_percentile (float): Phần trăm cao hơn để xác định ngưỡng trên (mặc định là 0.95)\n",
    "    \n",
    "    Returns:\n",
    "    pd.DataFrame: DataFrame đã được thay thế các giá trị nhiễu\n",
    "    \"\"\"\n",
    "    lower_bound = df[column_name].quantile(lower_percentile)\n",
    "    upper_bound = df[column_name].quantile(upper_percentile)\n",
    "    \n",
    "    # Giá trị nhiễu trước khi lọc\n",
    "    outliers_before = df[(df[column_name] < lower_bound) | (df[column_name] > upper_bound)]\n",
    "    print(f\"Total outliers in {column_name} before filtering: {outliers_before.shape[0]}\\n\")\n",
    "\n",
    "    df[column_name] = np.where(df[column_name] < lower_bound, lower_bound, df[column_name])\n",
    "    df[column_name] = np.where(df[column_name] > upper_bound, upper_bound, df[column_name])\n",
    "    \n",
    "    # Giá trị sau khi lọc\n",
    "    outliers_after = df[(df[column_name] < lower_bound) | (df[column_name] > upper_bound)]\n",
    "    print(f\"Total outliers in {column_name} after filtering (should be 0): {outliers_after.shape[0]}\\n\")\n",
    "    \n",
    "    return df"
   ]
  },
  {
   "cell_type": "code",
   "execution_count": 64,
   "metadata": {},
   "outputs": [
    {
     "name": "stdout",
     "output_type": "stream",
     "text": [
      "Outliers in rooms before filtering:\n",
      "Series([], Name: rooms, dtype: float64)\n",
      "\n",
      "Outliers in rooms after filtering:\n",
      "Series([], Name: rooms, dtype: float64)\n",
      "\n",
      "Outliers in price before filtering:\n",
      "Series([], Name: price, dtype: float64)\n",
      "\n",
      "Outliers in price after filtering:\n",
      "Series([], Name: price, dtype: float64)\n",
      "\n",
      "Outliers in size before filtering:\n",
      "Series([], Name: size, dtype: float64)\n",
      "\n",
      "Outliers in size after filtering:\n",
      "Series([], Name: size, dtype: float64)\n",
      "\n",
      "Outliers in price_million_per_m2 before filtering:\n",
      "3        14.689562\n",
      "4        14.689562\n",
      "5        14.689562\n",
      "8        14.689562\n",
      "70       14.689562\n",
      "           ...    \n",
      "10783    14.689562\n",
      "10785    14.689562\n",
      "10789    14.689562\n",
      "10793    14.689562\n",
      "10798    14.689562\n",
      "Name: price_million_per_m2, Length: 524, dtype: float64\n",
      "\n",
      "Outliers in price_million_per_m2 after filtering:\n",
      "Series([], Name: price_million_per_m2, dtype: float64)\n",
      "\n"
     ]
    }
   ],
   "source": [
    "# Loại bỏ các giá trị nhiễu\n",
    "columns_to_handle = [\"rooms\"\n",
    "                     , \"price\"\n",
    "                     , \"size\"\n",
    "                     , \"price_million_per_m2\"]\n",
    "\n",
    "for column_name in columns_to_handle:\n",
    "    merged_df = handle_outliers(merged_df, column_name)"
   ]
  },
  {
   "cell_type": "code",
   "execution_count": 59,
   "metadata": {},
   "outputs": [
    {
     "name": "stdout",
     "output_type": "stream",
     "text": [
      "       projectid  project_oid  \\\n",
      "0           2464   1582239957   \n",
      "1           2464   1582239957   \n",
      "2           2464   1582239957   \n",
      "3           2464   1582239957   \n",
      "4           2464   1582239957   \n",
      "...          ...          ...   \n",
      "10794       3931   1833333982   \n",
      "10795       4397   1312047912   \n",
      "10796       4818    453709511   \n",
      "10797       4266   1964432767   \n",
      "10798       4460   1786510809   \n",
      "\n",
      "                                                 subject    category_name  \\\n",
      "0      chủ vỡ nợ ban gấp nhà DTA 100m2 1 trệt 1 lầu t...            Nhà ở   \n",
      "1                                  Hàng ngộp cần bán gấp            Nhà ở   \n",
      "2                                           kẹt tiền trả            Nhà ở   \n",
      "3      Chính Chủ Cần Bán Gấp Căn Nhà Dự Án DTA giá bá...            Nhà ở   \n",
      "4      Chính chủ bán lỗ căn chung 33m2 xã Phước An gầ...  Căn hộ/Chung cư   \n",
      "...                                                  ...              ...   \n",
      "10794             chính chủ cần bán lô Tân Long 1 sổ sẵn              Đất   \n",
      "10795       BÁN 2 LÔ LIỀN KỀ A29 A30 OSAKA 2 VÕ VĂN BÍCH              Đất   \n",
      "10796  Chính chủ bán căn hộ An Hội. Tặng nội thất cao...  Căn hộ/Chung cư   \n",
      "10797         Biệt thự liền kề tại Đông Anh chỉ hơn 6 tỷ            Nhà ở   \n",
      "10798  Chính chủ Trần Quang Tông bán lô mặt tiền HÙNG...              Đất   \n",
      "\n",
      "              area_name     region_name         price     rooms   size  \\\n",
      "0      Huyện Nhơn Trạch        Đồng Nai  2.000000e+09  2.000000  100.0   \n",
      "1      Huyện Nhơn Trạch        Đồng Nai  2.100000e+09  2.000000  100.0   \n",
      "2      Huyện Nhơn Trạch        Đồng Nai  1.500000e+10  3.000000  162.0   \n",
      "3      Huyện Nhơn Trạch        Đồng Nai  1.300000e+09  2.000000  105.0   \n",
      "4      Huyện Nhơn Trạch        Đồng Nai  9.500000e+08  1.000000   33.0   \n",
      "...                 ...             ...           ...       ...    ...   \n",
      "10794   Thị xã Tân Uyên      Bình Dương  1.300000e+09  2.290842   75.0   \n",
      "10795      Huyện Củ Chi  Tp Hồ Chí Minh  1.650000e+09  2.290842   81.0   \n",
      "10796       Quận Gò Vấp  Tp Hồ Chí Minh  1.750000e+09  2.000000   78.0   \n",
      "10797    Huyện Đông Anh          Hà Nội  6.500000e+09  4.000000   70.0   \n",
      "10798      Huyện Đắk Hà         Kon Tum  9.500000e+08  2.290842  162.0   \n",
      "\n",
      "               ward_name  price_million_per_m2  \\\n",
      "0            Xã Phước An             20.000000   \n",
      "1            Xã Phước An             21.000000   \n",
      "2            Xã Phước An             33.333333   \n",
      "3            Xã Phước An             14.689562   \n",
      "4            Xã Phước An             14.689562   \n",
      "...                  ...                   ...   \n",
      "10794   Phường Uyên Hưng             17.333333   \n",
      "10795         Xã Bình Mỹ             20.370370   \n",
      "10796          Phường 14             22.435897   \n",
      "10797  Thị trấn Đông Anh             92.857143   \n",
      "10798    Thị trấn Đắk Hà             14.689562   \n",
      "\n",
      "                                        street_name           area_v2  \\\n",
      "0                                     Nguyễn Văn Cừ  Huyện Nhơn Trạch   \n",
      "1                               Đường Nguyễn Văn Cừ  Huyện Nhơn Trạch   \n",
      "2                                     Nguyễn Văn Cừ  Huyện Nhơn Trạch   \n",
      "3                                     Nguyễn Văn Cừ  Huyện Nhơn Trạch   \n",
      "4                                     Nguyễn Văn Cừ  Huyện Nhơn Trạch   \n",
      "...                                             ...               ...   \n",
      "10794                                     Uyên Hưng   Thị xã Tân Uyên   \n",
      "10795                                       Bình Mỹ      Huyện Củ Chi   \n",
      "10796                                     Nguyên Xá       Quận Gò Vấp   \n",
      "10797  Tổ 53, Thị trấn Đông Anh, Đông Anh, Hà Nội    Huyện Đông Anh   \n",
      "10798                                    Hùng Vương      Huyện Đắk Hà   \n",
      "\n",
      "                                          facilities_key  \\\n",
      "0      ['play_ground', 'fire_alarm', 'elevator', 'par...   \n",
      "1      ['play_ground', 'fire_alarm', 'elevator', 'par...   \n",
      "2      ['play_ground', 'fire_alarm', 'elevator', 'par...   \n",
      "3      ['play_ground', 'fire_alarm', 'elevator', 'par...   \n",
      "4      ['play_ground', 'fire_alarm', 'elevator', 'par...   \n",
      "...                                                  ...   \n",
      "10794                                                 []   \n",
      "10795                                                 []   \n",
      "10796                                                 []   \n",
      "10797  ['sports_area', 'elevator', 'spa', 'bbq', 'sec...   \n",
      "10798                                                 []   \n",
      "\n",
      "                                         surrounding_key  investor_id  \\\n",
      "0                 ['school', 'hospital', 'atm', 'banks']          378   \n",
      "1                 ['school', 'hospital', 'atm', 'banks']          378   \n",
      "2                 ['school', 'hospital', 'atm', 'banks']          378   \n",
      "3                 ['school', 'hospital', 'atm', 'banks']          378   \n",
      "4                 ['school', 'hospital', 'atm', 'banks']          378   \n",
      "...                                                  ...          ...   \n",
      "10794                                                 []         1690   \n",
      "10795                                                 []          698   \n",
      "10796  ['school', 'market', 'hospital', 'kindergarten...         1458   \n",
      "10797       ['market', 'hospital', 'restaurants', 'atm']         1772   \n",
      "10798                                                 []         1825   \n",
      "\n",
      "                           investor_name  \n",
      "0           Công ty Cổ phần Đệ Tam (DTA)  \n",
      "1           Công ty Cổ phần Đệ Tam (DTA)  \n",
      "2           Công ty Cổ phần Đệ Tam (DTA)  \n",
      "3           Công ty Cổ phần Đệ Tam (DTA)  \n",
      "4           Công ty Cổ phần Đệ Tam (DTA)  \n",
      "...                                  ...  \n",
      "10794          PHÁT TRIỂN NHÀ BÌNH DƯƠNG  \n",
      "10795                       Nhất Nam CIC  \n",
      "10796  TỔNG CÔNG TY ĐỊA ỐC SÀI GÒN RESCO  \n",
      "10797         Phát triển Đô thị Đông Anh  \n",
      "10798                         BrightLand  \n",
      "\n",
      "[10470 rows x 17 columns]\n"
     ]
    }
   ],
   "source": [
    "print(merged_df)"
   ]
  },
  {
   "cell_type": "markdown",
   "metadata": {},
   "source": [
    "### Chuẩn hoá Min-Max:\n",
    "Phương pháp chuẩn hoá Min-Max được sử dụng để chuyển đổi dữ liệu sao cho nó nằm trong một phạm vi đã cho, thường là từ 0 đến 1. Quy trình chuẩn hoá này giữ nguyên phân phối của dữ liệu ban đầu và giữ cho các giá trị được phân phối đều trong khoảng đã chọn."
   ]
  },
  {
   "cell_type": "code",
   "execution_count": 60,
   "metadata": {},
   "outputs": [],
   "source": [
    "# Tính giá trị nhỏ nhất và lớn nhất trong dữ liệu\n",
    "max_value = merged_df.max().values\n",
    "min_value = merged_df.min().values"
   ]
  },
  {
   "cell_type": "code",
   "execution_count": 61,
   "metadata": {},
   "outputs": [
    {
     "name": "stdout",
     "output_type": "stream",
     "text": [
      "[4896 2147353120 '🪷 CHÍNH CHỦ BÁN GIÁ RẺ CĂN HỘ LOTUS SEN HỒNG Ạ😊' 'Đất'\n",
      " 'Thị xã Điện Bàn' 'Đồng Nai' 15000000000.0 4.0 162.0 'Xã Đức Lập Thượng'\n",
      " 162.5 'đường số 30' 'Thị xã Điện Bàn' '[]' '[]' 1975 'địa ốc Vạn Xuân']\n",
      "[2 91730\n",
      " '\"Biệt Thự View Sông FPT - Nơi Sống Đẳng Cấp, Vị Trí Lô Góc Độc Nhất!'\n",
      " 'Căn hộ/Chung cư' 'Huyện Bàu Bàng' 'An Giang' 950000000.0 1.0 20.0\n",
      " 'Phường 1' 14.689561950020538 '1' 'Huyện Bàu Bàng'\n",
      " \"['bbq', 'gym', 'swimming_pool', 'fire_alarm']\" \"['atm', 'banks']\" 2\n",
      " '\\nTập đoàn Đầu tư Sài Gòn']\n"
     ]
    }
   ],
   "source": [
    "print(max_value);\n",
    "print(min_value);"
   ]
  },
  {
   "cell_type": "code",
   "execution_count": 62,
   "metadata": {},
   "outputs": [
    {
     "ename": "TypeError",
     "evalue": "unsupported operand type(s) for -: 'str' and 'str'",
     "output_type": "error",
     "traceback": [
      "\u001b[1;31m---------------------------------------------------------------------------\u001b[0m",
      "\u001b[1;31mTypeError\u001b[0m                                 Traceback (most recent call last)",
      "File \u001b[1;32m~\\anaconda3\\Lib\\site-packages\\pandas\\core\\ops\\array_ops.py:220\u001b[0m, in \u001b[0;36m_na_arithmetic_op\u001b[1;34m(left, right, op, is_cmp)\u001b[0m\n\u001b[0;32m    219\u001b[0m \u001b[38;5;28;01mtry\u001b[39;00m:\n\u001b[1;32m--> 220\u001b[0m     result \u001b[38;5;241m=\u001b[39m func(left, right)\n\u001b[0;32m    221\u001b[0m \u001b[38;5;28;01mexcept\u001b[39;00m \u001b[38;5;167;01mTypeError\u001b[39;00m:\n",
      "File \u001b[1;32m~\\anaconda3\\Lib\\site-packages\\pandas\\core\\computation\\expressions.py:242\u001b[0m, in \u001b[0;36mevaluate\u001b[1;34m(op, a, b, use_numexpr)\u001b[0m\n\u001b[0;32m    240\u001b[0m     \u001b[38;5;28;01mif\u001b[39;00m use_numexpr:\n\u001b[0;32m    241\u001b[0m         \u001b[38;5;66;03m# error: \"None\" not callable\u001b[39;00m\n\u001b[1;32m--> 242\u001b[0m         \u001b[38;5;28;01mreturn\u001b[39;00m _evaluate(op, op_str, a, b)  \u001b[38;5;66;03m# type: ignore[misc]\u001b[39;00m\n\u001b[0;32m    243\u001b[0m \u001b[38;5;28;01mreturn\u001b[39;00m _evaluate_standard(op, op_str, a, b)\n",
      "File \u001b[1;32m~\\anaconda3\\Lib\\site-packages\\pandas\\core\\computation\\expressions.py:131\u001b[0m, in \u001b[0;36m_evaluate_numexpr\u001b[1;34m(op, op_str, a, b)\u001b[0m\n\u001b[0;32m    130\u001b[0m \u001b[38;5;28;01mif\u001b[39;00m result \u001b[38;5;129;01mis\u001b[39;00m \u001b[38;5;28;01mNone\u001b[39;00m:\n\u001b[1;32m--> 131\u001b[0m     result \u001b[38;5;241m=\u001b[39m _evaluate_standard(op, op_str, a, b)\n\u001b[0;32m    133\u001b[0m \u001b[38;5;28;01mreturn\u001b[39;00m result\n",
      "File \u001b[1;32m~\\anaconda3\\Lib\\site-packages\\pandas\\core\\computation\\expressions.py:73\u001b[0m, in \u001b[0;36m_evaluate_standard\u001b[1;34m(op, op_str, a, b)\u001b[0m\n\u001b[0;32m     72\u001b[0m     _store_test_result(\u001b[38;5;28;01mFalse\u001b[39;00m)\n\u001b[1;32m---> 73\u001b[0m \u001b[38;5;28;01mreturn\u001b[39;00m op(a, b)\n",
      "\u001b[1;31mTypeError\u001b[0m: unsupported operand type(s) for -: 'str' and 'str'",
      "\nDuring handling of the above exception, another exception occurred:\n",
      "\u001b[1;31mTypeError\u001b[0m                                 Traceback (most recent call last)",
      "Cell \u001b[1;32mIn[62], line 2\u001b[0m\n\u001b[0;32m      1\u001b[0m \u001b[38;5;66;03m# Chuẩn hoá dữ liệu bằng Min-Max\u001b[39;00m\n\u001b[1;32m----> 2\u001b[0m merged_df_min_max \u001b[38;5;241m=\u001b[39m (merged_df \u001b[38;5;241m-\u001b[39m min_value) \u001b[38;5;241m/\u001b[39m (max_value \u001b[38;5;241m-\u001b[39m min_value)\n",
      "File \u001b[1;32m~\\anaconda3\\Lib\\site-packages\\pandas\\core\\ops\\common.py:76\u001b[0m, in \u001b[0;36m_unpack_zerodim_and_defer.<locals>.new_method\u001b[1;34m(self, other)\u001b[0m\n\u001b[0;32m     72\u001b[0m             \u001b[38;5;28;01mreturn\u001b[39;00m \u001b[38;5;28mNotImplemented\u001b[39m\n\u001b[0;32m     74\u001b[0m other \u001b[38;5;241m=\u001b[39m item_from_zerodim(other)\n\u001b[1;32m---> 76\u001b[0m \u001b[38;5;28;01mreturn\u001b[39;00m method(\u001b[38;5;28mself\u001b[39m, other)\n",
      "File \u001b[1;32m~\\anaconda3\\Lib\\site-packages\\pandas\\core\\arraylike.py:194\u001b[0m, in \u001b[0;36mOpsMixin.__sub__\u001b[1;34m(self, other)\u001b[0m\n\u001b[0;32m    192\u001b[0m \u001b[38;5;129m@unpack_zerodim_and_defer\u001b[39m(\u001b[38;5;124m\"\u001b[39m\u001b[38;5;124m__sub__\u001b[39m\u001b[38;5;124m\"\u001b[39m)\n\u001b[0;32m    193\u001b[0m \u001b[38;5;28;01mdef\u001b[39;00m \u001b[38;5;21m__sub__\u001b[39m(\u001b[38;5;28mself\u001b[39m, other):\n\u001b[1;32m--> 194\u001b[0m     \u001b[38;5;28;01mreturn\u001b[39;00m \u001b[38;5;28mself\u001b[39m\u001b[38;5;241m.\u001b[39m_arith_method(other, operator\u001b[38;5;241m.\u001b[39msub)\n",
      "File \u001b[1;32m~\\anaconda3\\Lib\\site-packages\\pandas\\core\\frame.py:7644\u001b[0m, in \u001b[0;36mDataFrame._arith_method\u001b[1;34m(self, other, op)\u001b[0m\n\u001b[0;32m   7641\u001b[0m \u001b[38;5;28mself\u001b[39m, other \u001b[38;5;241m=\u001b[39m \u001b[38;5;28mself\u001b[39m\u001b[38;5;241m.\u001b[39m_align_for_op(other, axis, flex\u001b[38;5;241m=\u001b[39m\u001b[38;5;28;01mTrue\u001b[39;00m, level\u001b[38;5;241m=\u001b[39m\u001b[38;5;28;01mNone\u001b[39;00m)\n\u001b[0;32m   7643\u001b[0m \u001b[38;5;28;01mwith\u001b[39;00m np\u001b[38;5;241m.\u001b[39merrstate(\u001b[38;5;28mall\u001b[39m\u001b[38;5;241m=\u001b[39m\u001b[38;5;124m\"\u001b[39m\u001b[38;5;124mignore\u001b[39m\u001b[38;5;124m\"\u001b[39m):\n\u001b[1;32m-> 7644\u001b[0m     new_data \u001b[38;5;241m=\u001b[39m \u001b[38;5;28mself\u001b[39m\u001b[38;5;241m.\u001b[39m_dispatch_frame_op(other, op, axis\u001b[38;5;241m=\u001b[39maxis)\n\u001b[0;32m   7645\u001b[0m \u001b[38;5;28;01mreturn\u001b[39;00m \u001b[38;5;28mself\u001b[39m\u001b[38;5;241m.\u001b[39m_construct_result(new_data)\n",
      "File \u001b[1;32m~\\anaconda3\\Lib\\site-packages\\pandas\\core\\frame.py:7687\u001b[0m, in \u001b[0;36mDataFrame._dispatch_frame_op\u001b[1;34m(self, right, func, axis)\u001b[0m\n\u001b[0;32m   7681\u001b[0m     \u001b[38;5;28;01massert\u001b[39;00m \u001b[38;5;28mself\u001b[39m\u001b[38;5;241m.\u001b[39mcolumns\u001b[38;5;241m.\u001b[39mequals(right\u001b[38;5;241m.\u001b[39mcolumns)\n\u001b[0;32m   7682\u001b[0m     \u001b[38;5;66;03m# TODO: The previous assertion `assert right._indexed_same(self)`\u001b[39;00m\n\u001b[0;32m   7683\u001b[0m     \u001b[38;5;66;03m#  fails in cases with empty columns reached via\u001b[39;00m\n\u001b[0;32m   7684\u001b[0m     \u001b[38;5;66;03m#  _frame_arith_method_with_reindex\u001b[39;00m\n\u001b[0;32m   7685\u001b[0m \n\u001b[0;32m   7686\u001b[0m     \u001b[38;5;66;03m# TODO operate_blockwise expects a manager of the same type\u001b[39;00m\n\u001b[1;32m-> 7687\u001b[0m     bm \u001b[38;5;241m=\u001b[39m \u001b[38;5;28mself\u001b[39m\u001b[38;5;241m.\u001b[39m_mgr\u001b[38;5;241m.\u001b[39moperate_blockwise(\n\u001b[0;32m   7688\u001b[0m         \u001b[38;5;66;03m# error: Argument 1 to \"operate_blockwise\" of \"ArrayManager\" has\u001b[39;00m\n\u001b[0;32m   7689\u001b[0m         \u001b[38;5;66;03m# incompatible type \"Union[ArrayManager, BlockManager]\"; expected\u001b[39;00m\n\u001b[0;32m   7690\u001b[0m         \u001b[38;5;66;03m# \"ArrayManager\"\u001b[39;00m\n\u001b[0;32m   7691\u001b[0m         \u001b[38;5;66;03m# error: Argument 1 to \"operate_blockwise\" of \"BlockManager\" has\u001b[39;00m\n\u001b[0;32m   7692\u001b[0m         \u001b[38;5;66;03m# incompatible type \"Union[ArrayManager, BlockManager]\"; expected\u001b[39;00m\n\u001b[0;32m   7693\u001b[0m         \u001b[38;5;66;03m# \"BlockManager\"\u001b[39;00m\n\u001b[0;32m   7694\u001b[0m         right\u001b[38;5;241m.\u001b[39m_mgr,  \u001b[38;5;66;03m# type: ignore[arg-type]\u001b[39;00m\n\u001b[0;32m   7695\u001b[0m         array_op,\n\u001b[0;32m   7696\u001b[0m     )\n\u001b[0;32m   7697\u001b[0m     \u001b[38;5;28;01mreturn\u001b[39;00m \u001b[38;5;28mself\u001b[39m\u001b[38;5;241m.\u001b[39m_constructor_from_mgr(bm, axes\u001b[38;5;241m=\u001b[39mbm\u001b[38;5;241m.\u001b[39maxes)\n\u001b[0;32m   7699\u001b[0m \u001b[38;5;28;01melif\u001b[39;00m \u001b[38;5;28misinstance\u001b[39m(right, Series) \u001b[38;5;129;01mand\u001b[39;00m axis \u001b[38;5;241m==\u001b[39m \u001b[38;5;241m1\u001b[39m:\n\u001b[0;32m   7700\u001b[0m     \u001b[38;5;66;03m# axis=1 means we want to operate row-by-row\u001b[39;00m\n",
      "File \u001b[1;32m~\\anaconda3\\Lib\\site-packages\\pandas\\core\\internals\\managers.py:1470\u001b[0m, in \u001b[0;36mBlockManager.operate_blockwise\u001b[1;34m(self, other, array_op)\u001b[0m\n\u001b[0;32m   1466\u001b[0m \u001b[38;5;28;01mdef\u001b[39;00m \u001b[38;5;21moperate_blockwise\u001b[39m(\u001b[38;5;28mself\u001b[39m, other: BlockManager, array_op) \u001b[38;5;241m-\u001b[39m\u001b[38;5;241m>\u001b[39m BlockManager:\n\u001b[0;32m   1467\u001b[0m \u001b[38;5;250m    \u001b[39m\u001b[38;5;124;03m\"\"\"\u001b[39;00m\n\u001b[0;32m   1468\u001b[0m \u001b[38;5;124;03m    Apply array_op blockwise with another (aligned) BlockManager.\u001b[39;00m\n\u001b[0;32m   1469\u001b[0m \u001b[38;5;124;03m    \"\"\"\u001b[39;00m\n\u001b[1;32m-> 1470\u001b[0m     \u001b[38;5;28;01mreturn\u001b[39;00m operate_blockwise(\u001b[38;5;28mself\u001b[39m, other, array_op)\n",
      "File \u001b[1;32m~\\anaconda3\\Lib\\site-packages\\pandas\\core\\internals\\ops.py:65\u001b[0m, in \u001b[0;36moperate_blockwise\u001b[1;34m(left, right, array_op)\u001b[0m\n\u001b[0;32m     63\u001b[0m res_blks: \u001b[38;5;28mlist\u001b[39m[Block] \u001b[38;5;241m=\u001b[39m []\n\u001b[0;32m     64\u001b[0m \u001b[38;5;28;01mfor\u001b[39;00m lvals, rvals, locs, left_ea, right_ea, rblk \u001b[38;5;129;01min\u001b[39;00m _iter_block_pairs(left, right):\n\u001b[1;32m---> 65\u001b[0m     res_values \u001b[38;5;241m=\u001b[39m array_op(lvals, rvals)\n\u001b[0;32m     66\u001b[0m     \u001b[38;5;28;01mif\u001b[39;00m (\n\u001b[0;32m     67\u001b[0m         left_ea\n\u001b[0;32m     68\u001b[0m         \u001b[38;5;129;01mand\u001b[39;00m \u001b[38;5;129;01mnot\u001b[39;00m right_ea\n\u001b[0;32m     69\u001b[0m         \u001b[38;5;129;01mand\u001b[39;00m \u001b[38;5;28mhasattr\u001b[39m(res_values, \u001b[38;5;124m\"\u001b[39m\u001b[38;5;124mreshape\u001b[39m\u001b[38;5;124m\"\u001b[39m)\n\u001b[0;32m     70\u001b[0m         \u001b[38;5;129;01mand\u001b[39;00m \u001b[38;5;129;01mnot\u001b[39;00m is_1d_only_ea_dtype(res_values\u001b[38;5;241m.\u001b[39mdtype)\n\u001b[0;32m     71\u001b[0m     ):\n\u001b[0;32m     72\u001b[0m         res_values \u001b[38;5;241m=\u001b[39m res_values\u001b[38;5;241m.\u001b[39mreshape(\u001b[38;5;241m1\u001b[39m, \u001b[38;5;241m-\u001b[39m\u001b[38;5;241m1\u001b[39m)\n",
      "File \u001b[1;32m~\\anaconda3\\Lib\\site-packages\\pandas\\core\\ops\\array_ops.py:285\u001b[0m, in \u001b[0;36marithmetic_op\u001b[1;34m(left, right, op)\u001b[0m\n\u001b[0;32m    281\u001b[0m     _bool_arith_check(op, left, right)  \u001b[38;5;66;03m# type: ignore[arg-type]\u001b[39;00m\n\u001b[0;32m    283\u001b[0m     \u001b[38;5;66;03m# error: Argument 1 to \"_na_arithmetic_op\" has incompatible type\u001b[39;00m\n\u001b[0;32m    284\u001b[0m     \u001b[38;5;66;03m# \"Union[ExtensionArray, ndarray[Any, Any]]\"; expected \"ndarray[Any, Any]\"\u001b[39;00m\n\u001b[1;32m--> 285\u001b[0m     res_values \u001b[38;5;241m=\u001b[39m _na_arithmetic_op(left, right, op)  \u001b[38;5;66;03m# type: ignore[arg-type]\u001b[39;00m\n\u001b[0;32m    287\u001b[0m \u001b[38;5;28;01mreturn\u001b[39;00m res_values\n",
      "File \u001b[1;32m~\\anaconda3\\Lib\\site-packages\\pandas\\core\\ops\\array_ops.py:229\u001b[0m, in \u001b[0;36m_na_arithmetic_op\u001b[1;34m(left, right, op, is_cmp)\u001b[0m\n\u001b[0;32m    221\u001b[0m \u001b[38;5;28;01mexcept\u001b[39;00m \u001b[38;5;167;01mTypeError\u001b[39;00m:\n\u001b[0;32m    222\u001b[0m     \u001b[38;5;28;01mif\u001b[39;00m \u001b[38;5;129;01mnot\u001b[39;00m is_cmp \u001b[38;5;129;01mand\u001b[39;00m (\n\u001b[0;32m    223\u001b[0m         left\u001b[38;5;241m.\u001b[39mdtype \u001b[38;5;241m==\u001b[39m \u001b[38;5;28mobject\u001b[39m \u001b[38;5;129;01mor\u001b[39;00m \u001b[38;5;28mgetattr\u001b[39m(right, \u001b[38;5;124m\"\u001b[39m\u001b[38;5;124mdtype\u001b[39m\u001b[38;5;124m\"\u001b[39m, \u001b[38;5;28;01mNone\u001b[39;00m) \u001b[38;5;241m==\u001b[39m \u001b[38;5;28mobject\u001b[39m\n\u001b[0;32m    224\u001b[0m     ):\n\u001b[1;32m   (...)\u001b[0m\n\u001b[0;32m    227\u001b[0m         \u001b[38;5;66;03m# Don't do this for comparisons, as that will handle complex numbers\u001b[39;00m\n\u001b[0;32m    228\u001b[0m         \u001b[38;5;66;03m#  incorrectly, see GH#32047\u001b[39;00m\n\u001b[1;32m--> 229\u001b[0m         result \u001b[38;5;241m=\u001b[39m _masked_arith_op(left, right, op)\n\u001b[0;32m    230\u001b[0m     \u001b[38;5;28;01melse\u001b[39;00m:\n\u001b[0;32m    231\u001b[0m         \u001b[38;5;28;01mraise\u001b[39;00m\n",
      "File \u001b[1;32m~\\anaconda3\\Lib\\site-packages\\pandas\\core\\ops\\array_ops.py:165\u001b[0m, in \u001b[0;36m_masked_arith_op\u001b[1;34m(x, y, op)\u001b[0m\n\u001b[0;32m    163\u001b[0m     \u001b[38;5;66;03m# See GH#5284, GH#5035, GH#19448 for historical reference\u001b[39;00m\n\u001b[0;32m    164\u001b[0m     \u001b[38;5;28;01mif\u001b[39;00m mask\u001b[38;5;241m.\u001b[39many():\n\u001b[1;32m--> 165\u001b[0m         result[mask] \u001b[38;5;241m=\u001b[39m op(xrav[mask], yrav[mask])\n\u001b[0;32m    167\u001b[0m \u001b[38;5;28;01melse\u001b[39;00m:\n\u001b[0;32m    168\u001b[0m     \u001b[38;5;28;01mif\u001b[39;00m \u001b[38;5;129;01mnot\u001b[39;00m is_scalar(y):\n",
      "\u001b[1;31mTypeError\u001b[0m: unsupported operand type(s) for -: 'str' and 'str'"
     ]
    }
   ],
   "source": [
    "# Chuẩn hoá dữ liệu bằng Min-Max\n",
    "merged_df_min_max = (merged_df - min_value) / (max_value - min_value)"
   ]
  },
  {
   "cell_type": "code",
   "execution_count": null,
   "metadata": {},
   "outputs": [],
   "source": [
    "print(\"Dữ liệu sau khi chuẩn hoá Min-Max:\")\n",
    "print(merged_df_min_max.head())"
   ]
  },
  {
   "cell_type": "markdown",
   "metadata": {},
   "source": [
    "### Thu giảm số chiều dữ liệu\n",
    "Thu giảm số chiều dữ liệu (dimensionality reduction) là quá trình giảm số lượng biến độc lập (chiều) trong tập dữ liệu mà không gây mất mát thông tin quan trọng. Quá trình này thường được áp dụng để giảm bớt sự phức tạp của dữ liệu, giảm thiểu chi phí tính toán và tăng hiệu suất của các mô hình máy học"
   ]
  },
  {
   "cell_type": "code",
   "execution_count": null,
   "metadata": {},
   "outputs": [],
   "source": [
    "# Tạo ma trận tương quan\n",
    "corr_matrix = merged_df.corr()"
   ]
  },
  {
   "cell_type": "code",
   "execution_count": null,
   "metadata": {},
   "outputs": [],
   "source": [
    "# Chọn ngưỡng tương quan\n",
    "threshold = 1"
   ]
  },
  {
   "cell_type": "code",
   "execution_count": null,
   "metadata": {},
   "outputs": [],
   "source": [
    "# Đồ thị heatmap thể hiện sự mối tương quan của các thuộc tính.\n",
    "plt.figure(figsize=(10, 8))\n",
    "sns.heatmap(corr_matrix, annot=True, cmap='coolwarm', fmt=\".2f\")\n",
    "plt.title('Heatmap - Mối tương quan giữa các thuộc tính')\n",
    "plt.show()"
   ]
  },
  {
   "cell_type": "code",
   "execution_count": null,
   "metadata": {},
   "outputs": [],
   "source": [
    "# Xác định cột có tương quan cao\n",
    "high_corr_cols = set()\n",
    "for i in range(len(corr_matrix.columns)):\n",
    "    for j in range(i):\n",
    "        if abs(corr_matrix.iloc[i, j]) > threshold:\n",
    "            colname_i = corr_matrix.columns[i]\n",
    "            colname_j = corr_matrix.columns[j]\n",
    "            high_corr_cols.add(colname_i)\n",
    "            high_corr_cols.add(colname_j)"
   ]
  },
  {
   "cell_type": "code",
   "execution_count": null,
   "metadata": {},
   "outputs": [],
   "source": [
    "# Loại bỏ các cột có tương quan cao\n",
    "merged_df = merged_df.drop(high_corr_cols, axis=1)"
   ]
  },
  {
   "cell_type": "code",
   "execution_count": null,
   "metadata": {},
   "outputs": [],
   "source": [
    "# Đồ thị heatmap thể hiện sự mối tương quan của các thuộc tính.\n",
    "plt.figure(figsize=(10, 8))\n",
    "sns.heatmap(corr_matrix, annot=True, cmap='coolwarm', fmt=\".2f\")\n",
    "plt.title('Heatmap - Mối tương quan giữa các thuộc tính')\n",
    "plt.show()"
   ]
  },
  {
   "cell_type": "code",
   "execution_count": null,
   "metadata": {},
   "outputs": [],
   "source": [
    "merged_df.to_csv(\"real_estate_processed.csv\")"
   ]
  },
  {
   "cell_type": "markdown",
   "metadata": {
    "id": "DSbKT73UTLjq"
   },
   "source": [
    "## Mã hóa dữ liệu phân loại\n",
    "#### Mã hóa biến độc lập (X)"
   ]
  },
  {
   "cell_type": "code",
   "execution_count": null,
   "metadata": {
    "id": "GE_afh9zTr5o"
   },
   "outputs": [],
   "source": [
    "from sklearn.compose import ColumnTransformer\n",
    "from sklearn.preprocessing import OneHotEncoder\n",
    "\n",
    "# Giả sử 'df' là DataFrame chứa tập dữ liệu\n",
    "# Xác định các cột cần mã hoá\n",
    "columns_to_encode = ['subject', 'category_name', 'area_name', 'region_name', \n",
    "                     'ward_name', 'street_name', 'area_v2', 'facilities_key', \n",
    "                     'surrounding_key', 'investor_id', 'investor_name']\n",
    "\n",
    "# Định nghĩa ColumnTransformer\n",
    "ct = ColumnTransformer(\n",
    "    transformers=[('encoder', OneHotEncoder(), columns_to_encode)], \n",
    "    remainder='passthrough'\n",
    ")\n",
    "\n",
    "# Fit và transform DataFrame\n",
    "X_encoded = ct.fit_transform(merged_df)\n",
    "\n",
    "# Chuyển kết quả thành DataFrame nếu cần\n",
    "X_encoded_df = pd.DataFrame(X_encoded)\n"
   ]
  },
  {
   "cell_type": "code",
   "execution_count": null,
   "metadata": {
    "colab": {
     "base_uri": "https://localhost:8080/"
    },
    "id": "Lq80jsTIY_n0",
    "outputId": "fef87bf8-f64c-470d-ecc1-6762fcd29524"
   },
   "outputs": [],
   "source": [
    "X_encoded_df.head()"
   ]
  },
  {
   "cell_type": "markdown",
   "metadata": {
    "id": "YXXF5M3xZUA1"
   },
   "source": [
    "#### Mã hóa biến phụ thuộc (Y)"
   ]
  },
  {
   "cell_type": "code",
   "execution_count": null,
   "metadata": {
    "id": "O054hXMtZTx_"
   },
   "outputs": [],
   "source": [
    "# Do biến price là biến liên tục nên ko cần mã hoá ^^\n",
    "# Gán biến phụ thuộc Y\n",
    "Y = merged_df['price']"
   ]
  },
  {
   "cell_type": "markdown",
   "metadata": {
    "id": "5S5t--lxERd0"
   },
   "source": [
    "## Chuẩn hóa Đặc trưng (Feature scaling)"
   ]
  },
  {
   "cell_type": "code",
   "execution_count": null,
   "metadata": {
    "id": "ZlRjMJwbEUcP"
   },
   "outputs": [],
   "source": [
    "from sklearn.preprocessing import StandardScaler\n",
    "sc = StandardScaler()\n",
    "X_train[:,3:] = sc.fit_transform(X_train[:,3:])\n",
    "#only use Transform to use the SAME scaler as the Training Set\n",
    "X_test[:,3:] = sc.transform(X_test[:,3:])"
   ]
  },
  {
   "cell_type": "code",
   "execution_count": null,
   "metadata": {
    "colab": {
     "base_uri": "https://localhost:8080/"
    },
    "id": "c7dUZrlgS2Vy",
    "outputId": "e4b06995-b32b-40bc-a57b-43b2a41b19ad"
   },
   "outputs": [],
   "source": [
    "print(X_train)"
   ]
  },
  {
   "cell_type": "code",
   "execution_count": null,
   "metadata": {
    "colab": {
     "base_uri": "https://localhost:8080/"
    },
    "id": "T270Isd8T10Y",
    "outputId": "66e4d916-cdff-479b-809b-3be3cf313003",
    "scrolled": true
   },
   "outputs": [],
   "source": [
    "print(X_test)"
   ]
  }
 ],
 "metadata": {
  "colab": {
   "collapsed_sections": [],
   "name": "data_preprocessing_template.ipynb",
   "provenance": []
  },
  "kernelspec": {
   "display_name": "Python 3 (ipykernel)",
   "language": "python",
   "name": "python3"
  },
  "language_info": {
   "codemirror_mode": {
    "name": "ipython",
    "version": 3
   },
   "file_extension": ".py",
   "mimetype": "text/x-python",
   "name": "python",
   "nbconvert_exporter": "python",
   "pygments_lexer": "ipython3",
   "version": "3.11.7"
  }
 },
 "nbformat": 4,
 "nbformat_minor": 4
}
