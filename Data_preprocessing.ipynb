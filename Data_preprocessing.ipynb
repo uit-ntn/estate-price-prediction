{
 "cells": [
  {
   "cell_type": "markdown",
   "metadata": {
    "id": "WOw8yMd1VlnD"
   },
   "source": [
    "# Data Preprocessing "
   ]
  },
  {
   "cell_type": "markdown",
   "metadata": {
    "id": "NvUGC8QQV6bV"
   },
   "source": [
    "## Importing the libraries"
   ]
  },
  {
   "cell_type": "code",
   "execution_count": 47,
   "metadata": {
    "id": "wfFEXZC0WS-V"
   },
   "outputs": [],
   "source": [
    "import numpy as np\n",
    "import matplotlib.pyplot as plt\n",
    "import seaborn as sns\n",
    "import pandas as pd\n",
    "from sklearn.preprocessing import LabelEncoder"
   ]
  },
  {
   "cell_type": "markdown",
   "metadata": {
    "id": "fhYaZ-ENV_c5"
   },
   "source": [
    "## Importing the dataset"
   ]
  },
  {
   "cell_type": "code",
   "execution_count": 48,
   "metadata": {
    "id": "aqHTg9bxWT_u"
   },
   "outputs": [],
   "source": [
    "df = pd.read_csv('combined_data.csv')"
   ]
  },
  {
   "cell_type": "code",
   "execution_count": 49,
   "metadata": {
    "id": "g1SODqISHgOU"
   },
   "outputs": [
    {
     "name": "stdout",
     "output_type": "stream",
     "text": [
      "           ad_id    list_id     list_time           date  account_id  \\\n",
      "0      149173109  109212357  1.712927e+12   3 ngày trước     4735114   \n",
      "1      156266188  115304264  1.712549e+12   1 tuần trước    19890442   \n",
      "2      156220843  115265512  1.712246e+12   2 tuần trước     9809355   \n",
      "3      155978499  115057158  1.711619e+12   3 tuần trước    25481412   \n",
      "4      155935060  115019801  1.711522e+12   3 tuần trước     3737279   \n",
      "...          ...        ...           ...            ...         ...   \n",
      "10795  154849506  114082287  1.708760e+12  2 tháng trước    11242900   \n",
      "10796  155894586  114984858  1.711428e+12   3 tuần trước    13330204   \n",
      "10797  156255700  115295208  1.713156e+12    2 giờ trước    20522540   \n",
      "10798  156287545  115324960  1.712449e+12   1 tuần trước     1198923   \n",
      "10799  154736189  113984591  1.708481e+12  2 tháng trước    22312532   \n",
      "\n",
      "       projectid  project_oid                       account_oid  \\\n",
      "0           2464   1582239957  b144d70d0cf27d2fb85f9acec319e1ad   \n",
      "1           2464   1582239957  2ca66c644efc61538b5b8c566a7b3601   \n",
      "2           2464   1582239957  9e980419635ca710ce81ced52d1fd372   \n",
      "3           2464   1582239957  ed86d1bdfae46ca66407c9ea8588d034   \n",
      "4           2464   1582239957  569a0038167cba4a32f856190c415c76   \n",
      "...          ...          ...                               ...   \n",
      "10795       3931   1833333982  74a912dcf1d83165695fe65bdc7b308d   \n",
      "10796       4397   1312047912  c8a464029b1023aed15ffb46d8b83383   \n",
      "10797       4818    453709511  0f988d876f9cce9b106d4dd767e7a8a0   \n",
      "10798       4266   1964432767  0fce5720190f362bd6c020a53731d28c   \n",
      "10799       4460   1786510809  aa4499f668dacd7ee8712b6098301eda   \n",
      "\n",
      "            account_name     state  ...    ward          ward_name  \\\n",
      "0                MR TOÀN  accepted  ...  9134.0        Xã Phước An   \n",
      "1        Phước Bình Land  accepted  ...  9134.0        Xã Phước An   \n",
      "2                   DIEM  accepted  ...  9134.0        Xã Phước An   \n",
      "3      Nguyễn Khắc Thành  accepted  ...  9134.0        Xã Phước An   \n",
      "4                  Khanh  accepted  ...  9134.0        Xã Phước An   \n",
      "...                  ...       ...  ...     ...                ...   \n",
      "10795         Dương Tiên  accepted  ...  8925.0   Phường Uyên Hưng   \n",
      "10796       PHẠM MINH TÚ  accepted  ...  9494.0         Xã Bình Mỹ   \n",
      "10797   PHẠM HOÀNG MINH   accepted  ...  9269.0          Phường 14   \n",
      "10798         Tài bộ đội  accepted  ...   155.0  Thị trấn Đông Anh   \n",
      "10799         Trần Quang  accepted  ...  8007.0    Thị trấn Đắk Hà   \n",
      "\n",
      "       price_million_per_m2            location  longitude  latitude  \\\n",
      "0                 20.000000  10.80574,105.48113  105.48113  10.80574   \n",
      "1                 21.000000    10.8057,105.4811  105.48110  10.80570   \n",
      "2                 33.333333    10.8057,105.4811  105.48110  10.80570   \n",
      "3                 12.380952    10.8057,105.4811  105.48110  10.80570   \n",
      "4                 10.606061    10.8057,105.4811  105.48110  10.80570   \n",
      "...                     ...                 ...        ...       ...   \n",
      "10795             17.333333    11.0619,106.7983  106.79830  11.06190   \n",
      "10796             20.370370    10.9246,106.6249  106.62490  10.92460   \n",
      "10797             22.435897    10.8184,106.6908  106.69080  10.81840   \n",
      "10798             92.857143    21.1555,105.8513  105.85130  21.15550   \n",
      "10799              4.777778     14.512,107.9216  107.92160  14.51200   \n",
      "\n",
      "       escrow_can_deposit                                             params  \\\n",
      "0                     2.0  [{'id': 'size', 'value': '100 m²', 'label': 'D...   \n",
      "1                     2.0  [{'id': 'size', 'value': '100 m²', 'label': 'D...   \n",
      "2                     2.0  [{'id': 'size', 'value': '1000 m²', 'label': '...   \n",
      "3                     2.0  [{'id': 'size', 'value': '105 m²', 'label': 'D...   \n",
      "4                     2.0  [{'id': 'size', 'value': '33 m²', 'label': 'Di...   \n",
      "...                   ...                                                ...   \n",
      "10795                 2.0  [{'id': 'size', 'value': '75 m²', 'label': 'Di...   \n",
      "10796                 2.0  [{'id': 'size', 'value': '81 m²', 'label': 'Di...   \n",
      "10797                 2.0  [{'id': 'size', 'value': '78 m²', 'label': 'Di...   \n",
      "10798                 2.0  [{'id': 'size', 'value': '70 m²', 'label': 'Di...   \n",
      "10799                 2.0  [{'id': 'size', 'value': '180 m²', 'label': 'D...   \n",
      "\n",
      "       zero_deposit                                   street_name  \n",
      "0             False                                 Nguyễn Văn Cừ  \n",
      "1             False                           Đường Nguyễn Văn Cừ  \n",
      "2             False                                 Nguyễn Văn Cừ  \n",
      "3             False                                 Nguyễn Văn Cừ  \n",
      "4             False                                 Nguyễn Văn Cừ  \n",
      "...             ...                                           ...  \n",
      "10795         False                                     Uyên Hưng  \n",
      "10796         False                                       Bình Mỹ  \n",
      "10797         False                                     Nguyên Xá  \n",
      "10798         False  Tổ 53, Thị trấn Đông Anh, Đông Anh, Hà Nội  \n",
      "10799         False                                    Hùng Vương  \n",
      "\n",
      "[10800 rows x 35 columns]\n"
     ]
    }
   ],
   "source": [
    "print(df)\n",
    "# print(X)\n",
    "# print(y)"
   ]
  },
  {
   "cell_type": "markdown",
   "metadata": {
    "id": "cYlKy8cAB1TB"
   },
   "source": [
    "### Thay thế dữ liệu thiếu\n",
    "Các tập dữ liệu thường chứa các giá trị thiếu, điều này có thể gây ra vấn đề cho các thuật toán học máy. Thay thế dữ liệu thiếu được gọi là bù đắp dữ liệu (data imputation)."
   ]
  },
  {
   "cell_type": "code",
   "execution_count": 50,
   "metadata": {},
   "outputs": [
    {
     "name": "stdout",
     "output_type": "stream",
     "text": [
      ">0,  missing entries: 0, percentage 0.00\n",
      ">1,  missing entries: 0, percentage 0.00\n",
      ">2,  missing entries: 2, percentage 0.02\n",
      ">3,  missing entries: 0, percentage 0.00\n",
      ">4,  missing entries: 0, percentage 0.00\n",
      ">5,  missing entries: 0, percentage 0.00\n",
      ">6,  missing entries: 0, percentage 0.00\n",
      ">7,  missing entries: 0, percentage 0.00\n",
      ">8,  missing entries: 0, percentage 0.00\n",
      ">9,  missing entries: 0, percentage 0.00\n",
      ">10,  missing entries: 0, percentage 0.00\n",
      ">11,  missing entries: 0, percentage 0.00\n",
      ">12,  missing entries: 0, percentage 0.00\n",
      ">13,  missing entries: 0, percentage 0.00\n",
      ">14,  missing entries: 0, percentage 0.00\n",
      ">15,  missing entries: 0, percentage 0.00\n",
      ">16,  missing entries: 0, percentage 0.00\n",
      ">17,  missing entries: 0, percentage 0.00\n",
      ">18,  missing entries: 0, percentage 0.00\n",
      ">19,  missing entries: 0, percentage 0.00\n",
      ">20,  missing entries: 2, percentage 0.02\n",
      ">21,  missing entries: 2, percentage 0.02\n",
      ">22,  missing entries: 1032, percentage 9.56\n",
      ">23,  missing entries: 0, percentage 0.00\n",
      ">24,  missing entries: 0, percentage 0.00\n",
      ">25,  missing entries: 2, percentage 0.02\n",
      ">26,  missing entries: 2, percentage 0.02\n",
      ">27,  missing entries: 2, percentage 0.02\n",
      ">28,  missing entries: 3, percentage 0.03\n",
      ">29,  missing entries: 3, percentage 0.03\n",
      ">30,  missing entries: 3, percentage 0.03\n",
      ">31,  missing entries: 2, percentage 0.02\n",
      ">32,  missing entries: 0, percentage 0.00\n",
      ">33,  missing entries: 0, percentage 0.00\n",
      ">34,  missing entries: 4, percentage 0.04\n"
     ]
    }
   ],
   "source": [
    "for i in range(len(df.columns)):\n",
    "    missing_data = df[df.columns[i]].isna().sum()\n",
    "    perc = missing_data / len(df) * 100\n",
    "    print('>%d,  missing entries: %d, percentage %.2f' % (i, missing_data, perc))"
   ]
  },
  {
   "cell_type": "code",
   "execution_count": 51,
   "metadata": {},
   "outputs": [
    {
     "data": {
      "text/plain": [
       "<Axes: >"
      ]
     },
     "execution_count": 51,
     "metadata": {},
     "output_type": "execute_result"
    },
    {
     "data": {
      "image/png": "[encoded data removed]",
      "text/plain": [
       "<Figure size 400x400 with 1 Axes>"
      ]
     },
     "metadata": {},
     "output_type": "display_data"
    }
   ],
   "source": [
    "plt.figure(figsize = (4,4)) #hiển thị các giá trị thiếu trong tập dữ liệu\n",
    "sns.heatmap(dataset.isna(), cbar=False, cmap='viridis', yticklabels=False)"
   ]
  },
  {
   "cell_type": "code",
   "execution_count": 52,
   "metadata": {},
   "outputs": [],
   "source": [
    "# Điền giá trị trung bình cho các cột dữ liệu thiếu\n",
    "df['list_time'].fillna(df['list_time'].mean(), inplace=True)\n",
    "df['price'].fillna(df['price'].mean(), inplace=True)\n",
    "df['rooms'].fillna(df['rooms'].mean(), inplace=True)\n",
    "df['ward'].fillna(df['ward'].mean(), inplace=True)\n",
    "df['longitude'].fillna(df['longitude'].mean(), inplace=True)\n",
    "df['latitude'].fillna(df['latitude'].mean(), inplace=True)\n",
    "df['price_million_per_m2'].fillna(df['price_million_per_m2'].mean(), inplace=True)\n",
    "df['escrow_can_deposit'].fillna(df['escrow_can_deposit'].mean(), inplace=True)"
   ]
  },
  {
   "cell_type": "code",
   "execution_count": 53,
   "metadata": {},
   "outputs": [
    {
     "name": "stdout",
     "output_type": "stream",
     "text": [
      "ad_id                   0\n",
      "list_id                 0\n",
      "list_time               0\n",
      "date                    0\n",
      "account_id              0\n",
      "projectid               0\n",
      "project_oid             0\n",
      "account_oid             0\n",
      "account_name            0\n",
      "state                   0\n",
      "subject                 0\n",
      "body                    0\n",
      "category                0\n",
      "category_name           0\n",
      "area                    0\n",
      "area_name               0\n",
      "region                  0\n",
      "region_name             0\n",
      "company_ad              0\n",
      "type                    0\n",
      "price                   0\n",
      "price_string            2\n",
      "rooms                   0\n",
      "size                    0\n",
      "region_v2               0\n",
      "ward                    0\n",
      "ward_name               2\n",
      "price_million_per_m2    0\n",
      "location                3\n",
      "longitude               0\n",
      "latitude                0\n",
      "escrow_can_deposit      0\n",
      "params                  0\n",
      "zero_deposit            0\n",
      "street_name             4\n",
      "dtype: int64\n"
     ]
    }
   ],
   "source": [
    "# Kiểm tra lại DataFrame sau khi điền giá trị thiếu\n",
    "print(df.isnull().sum())"
   ]
  },
  {
   "cell_type": "code",
   "execution_count": 54,
   "metadata": {},
   "outputs": [],
   "source": [
    "#Chuyển đổi khung dữ liệu thành một mảng gọn gàng bằng cách gọi các giá trị trên khung dữ liệu\n",
    "X= df.iloc[:, :-1].values\n",
    "y = df.iloc[:, -1].values"
   ]
  },
  {
   "cell_type": "code",
   "execution_count": 55,
   "metadata": {
    "id": "mWaCDTjUB6S4"
   },
   "outputs": [],
   "source": [
    "from sklearn.impute import SimpleImputer\n",
    "\n",
    "# Tạo một instance của lớp SimpleImputer: np.nan là giá trị trống trong tập dữ liệu\n",
    "imputer = SimpleImputer(missing_values=np.nan, strategy='mean')\n",
    "\n",
    "# fit trên tập dữ liệu để tính toán thống kê cho mỗi cột\n",
    "imputer.fit(X[:, 1:3]) \n",
    "\n",
    "# Imputer đã fit được áp dụng vào tập dữ liệu \n",
    "# để tạo một bản sao của tập dữ liệu với tất cả các giá trị trống \n",
    "# cho mỗi cột được thay thế bằng thống kê trung bình được tính toán.\n",
    "# transform sẽ thay thế và trả về các cột đã cập nhật mới\n",
    "X[:, 1:3] = imputer.transform(X[:, 1:3])\n"
   ]
  },
  {
   "cell_type": "code",
   "execution_count": 56,
   "metadata": {
    "colab": {
     "base_uri": "https://localhost:8080/"
    },
    "id": "086YTfEsE1zS",
    "outputId": "b6be8fa2-a121-4258-af45-e1d99f287310"
   },
   "outputs": [
    {
     "name": "stdout",
     "output_type": "stream",
     "text": [
      "[[149173109 109212357.0 1712926795000.0 ... 2.0\n",
      "  \"[{'id': 'size', 'value': '100 m²', 'label': 'Diện tích sử dụng'}, {'id': 'rooms', 'value': '2 PN', 'label': 'Số phòng ngủ'}]\"\n",
      "  False]\n",
      " [156266188 115304264.0 1712549464499.0 ... 2.0\n",
      "  \"[{'id': 'size', 'value': '100 m²', 'label': 'Diện tích sử dụng'}, {'id': 'rooms', 'value': '2 PN', 'label': 'Số phòng ngủ'}]\"\n",
      "  False]\n",
      " [156220843 115265512.0 1712246136000.0 ... 2.0\n",
      "  \"[{'id': 'size', 'value': '1000 m²', 'label': 'Diện tích sử dụng'}, {'id': 'rooms', 'value': '3 PN', 'label': 'Số phòng ngủ'}]\"\n",
      "  False]\n",
      " ...\n",
      " [156255700 115295208.0 1713155908769.0 ... 2.0\n",
      "  \"[{'id': 'size', 'value': '78 m²', 'label': 'Diện tích sử dụng'}, {'id': 'rooms', 'value': '2 PN', 'label': 'Số phòng ngủ'}]\"\n",
      "  False]\n",
      " [156287545 115324960.0 1712448540000.0 ... 2.0\n",
      "  \"[{'id': 'size', 'value': '70 m²', 'label': 'Diện tích sử dụng'}, {'id': 'rooms', 'value': '4 PN', 'label': 'Số phòng ngủ'}]\"\n",
      "  False]\n",
      " [154736189 113984591.0 1708480762000.0 ... 2.0\n",
      "  \"[{'id': 'size', 'value': '180 m²', 'label': 'Diện tích sử dụng'}]\"\n",
      "  False]]\n"
     ]
    }
   ],
   "source": [
    "print(X)"
   ]
  },
  {
   "cell_type": "markdown",
   "metadata": {
    "id": "DSbKT73UTLjq"
   },
   "source": [
    "## Mã hóa dữ liệu phân loại\r\n",
    "#### Mã hóa biến độc lập (X)"
   ]
  },
  {
   "cell_type": "code",
   "execution_count": 57,
   "metadata": {
    "id": "GE_afh9zTr5o"
   },
   "outputs": [
    {
     "ename": "ValueError",
     "evalue": "For a sparse output, all columns should be a numeric or convertible to a numeric.",
     "output_type": "error",
     "traceback": [
      "\u001b[1;31m---------------------------------------------------------------------------\u001b[0m",
      "\u001b[1;31mValueError\u001b[0m                                Traceback (most recent call last)",
      "File \u001b[1;32m~\\anaconda3\\Lib\\site-packages\\sklearn\\compose\\_column_transformer.py:830\u001b[0m, in \u001b[0;36mColumnTransformer._hstack\u001b[1;34m(self, Xs)\u001b[0m\n\u001b[0;32m    826\u001b[0m \u001b[38;5;28;01mtry\u001b[39;00m:\n\u001b[0;32m    827\u001b[0m     \u001b[38;5;66;03m# since all columns should be numeric before stacking them\u001b[39;00m\n\u001b[0;32m    828\u001b[0m     \u001b[38;5;66;03m# in a sparse matrix, `check_array` is used for the\u001b[39;00m\n\u001b[0;32m    829\u001b[0m     \u001b[38;5;66;03m# dtype conversion if necessary.\u001b[39;00m\n\u001b[1;32m--> 830\u001b[0m     converted_Xs \u001b[38;5;241m=\u001b[39m [\n\u001b[0;32m    831\u001b[0m         check_array(X, accept_sparse\u001b[38;5;241m=\u001b[39m\u001b[38;5;28;01mTrue\u001b[39;00m, force_all_finite\u001b[38;5;241m=\u001b[39m\u001b[38;5;28;01mFalse\u001b[39;00m)\n\u001b[0;32m    832\u001b[0m         \u001b[38;5;28;01mfor\u001b[39;00m X \u001b[38;5;129;01min\u001b[39;00m Xs\n\u001b[0;32m    833\u001b[0m     ]\n\u001b[0;32m    834\u001b[0m \u001b[38;5;28;01mexcept\u001b[39;00m \u001b[38;5;167;01mValueError\u001b[39;00m \u001b[38;5;28;01mas\u001b[39;00m e:\n",
      "File \u001b[1;32m~\\anaconda3\\Lib\\site-packages\\sklearn\\compose\\_column_transformer.py:831\u001b[0m, in \u001b[0;36m<listcomp>\u001b[1;34m(.0)\u001b[0m\n\u001b[0;32m    826\u001b[0m \u001b[38;5;28;01mtry\u001b[39;00m:\n\u001b[0;32m    827\u001b[0m     \u001b[38;5;66;03m# since all columns should be numeric before stacking them\u001b[39;00m\n\u001b[0;32m    828\u001b[0m     \u001b[38;5;66;03m# in a sparse matrix, `check_array` is used for the\u001b[39;00m\n\u001b[0;32m    829\u001b[0m     \u001b[38;5;66;03m# dtype conversion if necessary.\u001b[39;00m\n\u001b[0;32m    830\u001b[0m     converted_Xs \u001b[38;5;241m=\u001b[39m [\n\u001b[1;32m--> 831\u001b[0m         check_array(X, accept_sparse\u001b[38;5;241m=\u001b[39m\u001b[38;5;28;01mTrue\u001b[39;00m, force_all_finite\u001b[38;5;241m=\u001b[39m\u001b[38;5;28;01mFalse\u001b[39;00m)\n\u001b[0;32m    832\u001b[0m         \u001b[38;5;28;01mfor\u001b[39;00m X \u001b[38;5;129;01min\u001b[39;00m Xs\n\u001b[0;32m    833\u001b[0m     ]\n\u001b[0;32m    834\u001b[0m \u001b[38;5;28;01mexcept\u001b[39;00m \u001b[38;5;167;01mValueError\u001b[39;00m \u001b[38;5;28;01mas\u001b[39;00m e:\n",
      "File \u001b[1;32m~\\anaconda3\\Lib\\site-packages\\sklearn\\utils\\validation.py:879\u001b[0m, in \u001b[0;36mcheck_array\u001b[1;34m(array, accept_sparse, accept_large_sparse, dtype, order, copy, force_all_finite, ensure_2d, allow_nd, ensure_min_samples, ensure_min_features, estimator, input_name)\u001b[0m\n\u001b[0;32m    878\u001b[0m     \u001b[38;5;28;01melse\u001b[39;00m:\n\u001b[1;32m--> 879\u001b[0m         array \u001b[38;5;241m=\u001b[39m _asarray_with_order(array, order\u001b[38;5;241m=\u001b[39morder, dtype\u001b[38;5;241m=\u001b[39mdtype, xp\u001b[38;5;241m=\u001b[39mxp)\n\u001b[0;32m    880\u001b[0m \u001b[38;5;28;01mexcept\u001b[39;00m ComplexWarning \u001b[38;5;28;01mas\u001b[39;00m complex_warning:\n",
      "File \u001b[1;32m~\\anaconda3\\Lib\\site-packages\\sklearn\\utils\\_array_api.py:185\u001b[0m, in \u001b[0;36m_asarray_with_order\u001b[1;34m(array, dtype, order, copy, xp)\u001b[0m\n\u001b[0;32m    183\u001b[0m \u001b[38;5;28;01mif\u001b[39;00m xp\u001b[38;5;241m.\u001b[39m\u001b[38;5;18m__name__\u001b[39m \u001b[38;5;129;01min\u001b[39;00m {\u001b[38;5;124m\"\u001b[39m\u001b[38;5;124mnumpy\u001b[39m\u001b[38;5;124m\"\u001b[39m, \u001b[38;5;124m\"\u001b[39m\u001b[38;5;124mnumpy.array_api\u001b[39m\u001b[38;5;124m\"\u001b[39m}:\n\u001b[0;32m    184\u001b[0m     \u001b[38;5;66;03m# Use NumPy API to support order\u001b[39;00m\n\u001b[1;32m--> 185\u001b[0m     array \u001b[38;5;241m=\u001b[39m numpy\u001b[38;5;241m.\u001b[39masarray(array, order\u001b[38;5;241m=\u001b[39morder, dtype\u001b[38;5;241m=\u001b[39mdtype)\n\u001b[0;32m    186\u001b[0m     \u001b[38;5;28;01mreturn\u001b[39;00m xp\u001b[38;5;241m.\u001b[39masarray(array, copy\u001b[38;5;241m=\u001b[39mcopy)\n",
      "\u001b[1;31mValueError\u001b[0m: could not convert string to float: '3 ngày trước'",
      "\nThe above exception was the direct cause of the following exception:\n",
      "\u001b[1;31mValueError\u001b[0m                                Traceback (most recent call last)",
      "Cell \u001b[1;32mIn[57], line 11\u001b[0m\n\u001b[0;32m      7\u001b[0m ct \u001b[38;5;241m=\u001b[39m ColumnTransformer(transformers\u001b[38;5;241m=\u001b[39m[(\u001b[38;5;124m'\u001b[39m\u001b[38;5;124mencoder\u001b[39m\u001b[38;5;124m'\u001b[39m, OneHotEncoder(), [\u001b[38;5;241m0\u001b[39m])], remainder\u001b[38;5;241m=\u001b[39m\u001b[38;5;124m\"\u001b[39m\u001b[38;5;124mpassthrough\u001b[39m\u001b[38;5;124m\"\u001b[39m)\n\u001b[0;32m      9\u001b[0m \u001b[38;5;66;03m# fit và transform với input là X\u001b[39;00m\n\u001b[0;32m     10\u001b[0m \u001b[38;5;66;03m# np.array: cần chuyển đổi đầu ra của fit_transform() từ ma trận sang np.array\u001b[39;00m\n\u001b[1;32m---> 11\u001b[0m X \u001b[38;5;241m=\u001b[39m np\u001b[38;5;241m.\u001b[39marray(ct\u001b[38;5;241m.\u001b[39mfit_transform(X))\n",
      "File \u001b[1;32m~\\anaconda3\\Lib\\site-packages\\sklearn\\utils\\_set_output.py:140\u001b[0m, in \u001b[0;36m_wrap_method_output.<locals>.wrapped\u001b[1;34m(self, X, *args, **kwargs)\u001b[0m\n\u001b[0;32m    138\u001b[0m \u001b[38;5;129m@wraps\u001b[39m(f)\n\u001b[0;32m    139\u001b[0m \u001b[38;5;28;01mdef\u001b[39;00m \u001b[38;5;21mwrapped\u001b[39m(\u001b[38;5;28mself\u001b[39m, X, \u001b[38;5;241m*\u001b[39margs, \u001b[38;5;241m*\u001b[39m\u001b[38;5;241m*\u001b[39mkwargs):\n\u001b[1;32m--> 140\u001b[0m     data_to_wrap \u001b[38;5;241m=\u001b[39m f(\u001b[38;5;28mself\u001b[39m, X, \u001b[38;5;241m*\u001b[39margs, \u001b[38;5;241m*\u001b[39m\u001b[38;5;241m*\u001b[39mkwargs)\n\u001b[0;32m    141\u001b[0m     \u001b[38;5;28;01mif\u001b[39;00m \u001b[38;5;28misinstance\u001b[39m(data_to_wrap, \u001b[38;5;28mtuple\u001b[39m):\n\u001b[0;32m    142\u001b[0m         \u001b[38;5;66;03m# only wrap the first output for cross decomposition\u001b[39;00m\n\u001b[0;32m    143\u001b[0m         \u001b[38;5;28;01mreturn\u001b[39;00m (\n\u001b[0;32m    144\u001b[0m             _wrap_data_with_container(method, data_to_wrap[\u001b[38;5;241m0\u001b[39m], X, \u001b[38;5;28mself\u001b[39m),\n\u001b[0;32m    145\u001b[0m             \u001b[38;5;241m*\u001b[39mdata_to_wrap[\u001b[38;5;241m1\u001b[39m:],\n\u001b[0;32m    146\u001b[0m         )\n",
      "File \u001b[1;32m~\\anaconda3\\Lib\\site-packages\\sklearn\\compose\\_column_transformer.py:751\u001b[0m, in \u001b[0;36mColumnTransformer.fit_transform\u001b[1;34m(self, X, y)\u001b[0m\n\u001b[0;32m    748\u001b[0m \u001b[38;5;28mself\u001b[39m\u001b[38;5;241m.\u001b[39m_validate_output(Xs)\n\u001b[0;32m    749\u001b[0m \u001b[38;5;28mself\u001b[39m\u001b[38;5;241m.\u001b[39m_record_output_indices(Xs)\n\u001b[1;32m--> 751\u001b[0m \u001b[38;5;28;01mreturn\u001b[39;00m \u001b[38;5;28mself\u001b[39m\u001b[38;5;241m.\u001b[39m_hstack(\u001b[38;5;28mlist\u001b[39m(Xs))\n",
      "File \u001b[1;32m~\\anaconda3\\Lib\\site-packages\\sklearn\\compose\\_column_transformer.py:835\u001b[0m, in \u001b[0;36mColumnTransformer._hstack\u001b[1;34m(self, Xs)\u001b[0m\n\u001b[0;32m    830\u001b[0m         converted_Xs \u001b[38;5;241m=\u001b[39m [\n\u001b[0;32m    831\u001b[0m             check_array(X, accept_sparse\u001b[38;5;241m=\u001b[39m\u001b[38;5;28;01mTrue\u001b[39;00m, force_all_finite\u001b[38;5;241m=\u001b[39m\u001b[38;5;28;01mFalse\u001b[39;00m)\n\u001b[0;32m    832\u001b[0m             \u001b[38;5;28;01mfor\u001b[39;00m X \u001b[38;5;129;01min\u001b[39;00m Xs\n\u001b[0;32m    833\u001b[0m         ]\n\u001b[0;32m    834\u001b[0m     \u001b[38;5;28;01mexcept\u001b[39;00m \u001b[38;5;167;01mValueError\u001b[39;00m \u001b[38;5;28;01mas\u001b[39;00m e:\n\u001b[1;32m--> 835\u001b[0m         \u001b[38;5;28;01mraise\u001b[39;00m \u001b[38;5;167;01mValueError\u001b[39;00m(\n\u001b[0;32m    836\u001b[0m             \u001b[38;5;124m\"\u001b[39m\u001b[38;5;124mFor a sparse output, all columns should \u001b[39m\u001b[38;5;124m\"\u001b[39m\n\u001b[0;32m    837\u001b[0m             \u001b[38;5;124m\"\u001b[39m\u001b[38;5;124mbe a numeric or convertible to a numeric.\u001b[39m\u001b[38;5;124m\"\u001b[39m\n\u001b[0;32m    838\u001b[0m         ) \u001b[38;5;28;01mfrom\u001b[39;00m \u001b[38;5;21;01me\u001b[39;00m\n\u001b[0;32m    840\u001b[0m     \u001b[38;5;28;01mreturn\u001b[39;00m sparse\u001b[38;5;241m.\u001b[39mhstack(converted_Xs)\u001b[38;5;241m.\u001b[39mtocsr()\n\u001b[0;32m    841\u001b[0m \u001b[38;5;28;01melse\u001b[39;00m:\n",
      "\u001b[1;31mValueError\u001b[0m: For a sparse output, all columns should be a numeric or convertible to a numeric."
     ]
    }
   ],
   "source": [
    "from sklearn.compose import ColumnTransformer\n",
    "from sklearn.preprocessing import OneHotEncoder\n",
    "\n",
    "# transformers: xác định loại biến đổi và cột nào cần đổi\n",
    "# Tuple ('encoder', biến đổi mã hóa, [cột cần đổi])\n",
    "# remainder = \"passthrough\" > giữ lại các cột không được đổi. Nếu không, các cột còn lại sẽ không được included\n",
    "ct = ColumnTransformer(transformers=[('encoder', OneHotEncoder(), [0])], remainder=\"passthrough\")\n",
    "\n",
    "# fit và transform với input là X\n",
    "# np.array: cần chuyển đổi đầu ra của fit_transform() từ ma trận sang np.array\n",
    "X = np.array(ct.fit_transform(X))\n"
   ]
  },
  {
   "cell_type": "code",
   "execution_count": null,
   "metadata": {
    "colab": {
     "base_uri": "https://localhost:8080/"
    },
    "id": "Lq80jsTIY_n0",
    "outputId": "fef87bf8-f64c-470d-ecc1-6762fcd29524"
   },
   "outputs": [],
   "source": [
    "print(X)"
   ]
  },
  {
   "cell_type": "markdown",
   "metadata": {
    "id": "YXXF5M3xZUA1"
   },
   "source": [
    "#### Mã hóa biến phụ thuộc\n"
   ]
  },
  {
   "cell_type": "code",
   "execution_count": null,
   "metadata": {
    "id": "O054hXMtZTx_"
   },
   "outputs": [],
   "source": [
    "from sklearn.preprocessing import LabelEncoder\n",
    "le = LabelEncoder()\n",
    "#output of fit_transform of Label Encoder is already a Numpy Array\n",
    "y = le.fit_transform(y)"
   ]
  },
  {
   "cell_type": "code",
   "execution_count": null,
   "metadata": {
    "colab": {
     "base_uri": "https://localhost:8080/"
    },
    "id": "VmdJJTofZwyi",
    "outputId": "97adaef3-356a-47b0-8cd3-70dc15a74464"
   },
   "outputs": [],
   "source": [
    "print(y)"
   ]
  },
  {
   "cell_type": "markdown",
   "metadata": {
    "id": "3abSxRqvWEIB"
   },
   "source": [
    "## Splitting the dataset (X = data, y = output) into the Training set and Test set"
   ]
  },
  {
   "cell_type": "code",
   "execution_count": null,
   "metadata": {
    "id": "hm48sif-WWsh"
   },
   "outputs": [],
   "source": [
    "from sklearn.model_selection import train_test_split\n",
    "X_train, X_test, y_train, y_test = train_test_split(X, y, test_size = 0.2, random_state = 1)"
   ]
  },
  {
   "cell_type": "code",
   "execution_count": null,
   "metadata": {
    "colab": {
     "base_uri": "https://localhost:8080/"
    },
    "id": "Nw7mYJpeDi6s",
    "outputId": "125be395-50a3-4590-848b-403a05ec4e75"
   },
   "outputs": [],
   "source": [
    "print(X_train)"
   ]
  },
  {
   "cell_type": "code",
   "execution_count": null,
   "metadata": {
    "colab": {
     "base_uri": "https://localhost:8080/"
    },
    "id": "318jeGZqDjhz",
    "outputId": "b3446b91-7633-47fa-897e-afb5b163b3ea"
   },
   "outputs": [],
   "source": [
    "print(X_test)"
   ]
  },
  {
   "cell_type": "code",
   "execution_count": null,
   "metadata": {
    "colab": {
     "base_uri": "https://localhost:8080/"
    },
    "id": "P-WZ1_yDDjoN",
    "outputId": "f2a8efa2-a1e7-477e-8bc4-6834b531cc51"
   },
   "outputs": [],
   "source": [
    "print(y_train)"
   ]
  },
  {
   "cell_type": "code",
   "execution_count": null,
   "metadata": {
    "colab": {
     "base_uri": "https://localhost:8080/"
    },
    "id": "4C5Z1CgWDjyc",
    "outputId": "f97e7747-5a13-4acf-8f29-bc2debaf65aa"
   },
   "outputs": [],
   "source": [
    "print(y_test)"
   ]
  },
  {
   "cell_type": "markdown",
   "metadata": {
    "id": "5S5t--lxERd0"
   },
   "source": [
    "## Chuẩn hóa Đặc trưng (\n",
    "\r\n",
    "\r\n",
    "Feature Sc)aling\n"
   ]
  },
  {
   "cell_type": "code",
   "execution_count": null,
   "metadata": {
    "id": "ZlRjMJwbEUcP"
   },
   "outputs": [],
   "source": [
    "from sklearn.preprocessing import StandardScaler\n",
    "sc = StandardScaler()\n",
    "X_train[:,3:] = sc.fit_transform(X_train[:,3:])\n",
    "#only use Transform to use the SAME scaler as the Training Set\n",
    "X_test[:,3:] = sc.transform(X_test[:,3:])"
   ]
  },
  {
   "cell_type": "code",
   "execution_count": null,
   "metadata": {
    "colab": {
     "base_uri": "https://localhost:8080/"
    },
    "id": "c7dUZrlgS2Vy",
    "outputId": "e4b06995-b32b-40bc-a57b-43b2a41b19ad"
   },
   "outputs": [],
   "source": [
    "print(X_train)"
   ]
  },
  {
   "cell_type": "code",
   "execution_count": null,
   "metadata": {
    "colab": {
     "base_uri": "https://localhost:8080/"
    },
    "id": "T270Isd8T10Y",
    "outputId": "66e4d916-cdff-479b-809b-3be3cf313003",
    "scrolled": true
   },
   "outputs": [],
   "source": [
    "print(X_test)"
   ]
  },
  {
   "cell_type": "markdown",
   "metadata": {},
   "source": [
    "\n",
    "## 5. Training Machine Learning Model\n"
   ]
  },
  {
   "cell_type": "code",
   "execution_count": null,
   "metadata": {},
   "outputs": [],
   "source": [
    "## Models from Scikit-Learn: Search \"scikit learn model map\"\n",
    "from sklearn.linear_model import LogisticRegression\n"
   ]
  },
  {
   "cell_type": "code",
   "execution_count": null,
   "metadata": {},
   "outputs": [],
   "source": [
    "logistic_clf = LogisticRegression()\n",
    "logistic_clf.fit(X_train, y_train)"
   ]
  },
  {
   "cell_type": "markdown",
   "metadata": {},
   "source": [
    "#### 5.1. Evaluate the model\n",
    "\n",
    "Mỗi mô hình hoặc bộ ước lượng đều có một phương thức tính điểm tích hợp. Phương thức này so sánh xem mô hình đã học được mẫu mức độ tốt như thế nào giữa các đặc trưng và nhãn. Nói cách khác, nó trả về độ chính xác của mô hình của bạn.\r\n",
    "\r\n",
    "\r\n"
   ]
  },
  {
   "cell_type": "code",
   "execution_count": null,
   "metadata": {},
   "outputs": [],
   "source": [
    "# Evaluate the model on the training set\n",
    "logistic_clf.score(X_train, y_train)"
   ]
  },
  {
   "cell_type": "code",
   "execution_count": null,
   "metadata": {},
   "outputs": [],
   "source": [
    "# Evaluate the model on the test set\n",
    "logistic_clf.score(X_test, y_test)"
   ]
  },
  {
   "cell_type": "code",
   "execution_count": null,
   "metadata": {},
   "outputs": [],
   "source": [
    "y_preds = logistic_clf.predict(X_test)\n",
    "y_preds"
   ]
  },
  {
   "cell_type": "code",
   "execution_count": null,
   "metadata": {},
   "outputs": [],
   "source": [
    "y_test"
   ]
  },
  {
   "cell_type": "code",
   "execution_count": null,
   "metadata": {},
   "outputs": [],
   "source": [
    "#Predict with a single input\n",
    "logistic_clf.predict([[0.0, 0.0, 1.0, -0.19159184384578545, -1.0781259408412425]])"
   ]
  },
  {
   "cell_type": "code",
   "execution_count": null,
   "metadata": {},
   "outputs": [],
   "source": []
  },
  {
   "cell_type": "code",
   "execution_count": null,
   "metadata": {},
   "outputs": [],
   "source": []
  },
  {
   "cell_type": "code",
   "execution_count": null,
   "metadata": {},
   "outputs": [],
   "source": []
  }
 ],
 "metadata": {
  "colab": {
   "collapsed_sections": [],
   "name": "data_preprocessing_template.ipynb",
   "provenance": []
  },
  "kernelspec": {
   "display_name": "Python 3 (ipykernel)",
   "language": "python",
   "name": "python3"
  },
  "language_info": {
   "codemirror_mode": {
    "name": "ipython",
    "version": 3
   },
   "file_extension": ".py",
   "mimetype": "text/x-python",
   "name": "python",
   "nbconvert_exporter": "python",
   "pygments_lexer": "ipython3",
   "version": "3.11.7"
  }
 },
 "nbformat": 4,
 "nbformat_minor": 4
}
