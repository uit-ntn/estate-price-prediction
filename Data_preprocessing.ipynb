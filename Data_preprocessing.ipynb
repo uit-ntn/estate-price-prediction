{
 "cells": [
  {
   "cell_type": "markdown",
   "metadata": {
    "id": "WOw8yMd1VlnD"
   },
   "source": [
    "# Data Preprocessing "
   ]
  },
  {
   "cell_type": "markdown",
   "metadata": {
    "id": "NvUGC8QQV6bV"
   },
   "source": [
    "## Importing the libraries"
   ]
  },
  {
   "cell_type": "code",
   "execution_count": 294,
   "metadata": {
    "id": "wfFEXZC0WS-V"
   },
   "outputs": [],
   "source": [
    "import numpy as np\n",
    "import matplotlib.pyplot as plt\n",
    "import seaborn as sns\n",
    "import pandas as pd\n",
    "from sklearn.preprocessing import LabelEncoder\n",
    "from sklearn.model_selection import train_test_split"
   ]
  },
  {
   "cell_type": "markdown",
   "metadata": {
    "id": "fhYaZ-ENV_c5"
   },
   "source": [
    "## Importing the dataset"
   ]
  },
  {
   "cell_type": "code",
   "execution_count": 295,
   "metadata": {
    "id": "aqHTg9bxWT_u"
   },
   "outputs": [],
   "source": [
    "df1 = pd.read_csv('real_estate_data.csv')"
   ]
  },
  {
   "cell_type": "code",
   "execution_count": 296,
   "metadata": {},
   "outputs": [],
   "source": [
    "df2 = pd.read_csv('projects_data.csv')"
   ]
  },
  {
   "cell_type": "markdown",
   "metadata": {},
   "source": [
    "### MERGE DATAFRAME"
   ]
  },
  {
   "cell_type": "code",
   "execution_count": 297,
   "metadata": {},
   "outputs": [],
   "source": [
    "# Join hai DataFrame lại với nhau\n",
    "merged_df = pd.merge(df1, df2, on='project_oid', how='inner')"
   ]
  },
  {
   "cell_type": "code",
   "execution_count": 298,
   "metadata": {},
   "outputs": [
    {
     "data": {
      "text/html": [
       "<div>\n",
       "<style scoped>\n",
       "    .dataframe tbody tr th:only-of-type {\n",
       "        vertical-align: middle;\n",
       "    }\n",
       "\n",
       "    .dataframe tbody tr th {\n",
       "        vertical-align: top;\n",
       "    }\n",
       "\n",
       "    .dataframe thead th {\n",
       "        text-align: right;\n",
       "    }\n",
       "</style>\n",
       "<table border=\"1\" class=\"dataframe\">\n",
       "  <thead>\n",
       "    <tr style=\"text-align: right;\">\n",
       "      <th></th>\n",
       "      <th>ad_id</th>\n",
       "      <th>list_id</th>\n",
       "      <th>list_time</th>\n",
       "      <th>date</th>\n",
       "      <th>account_id</th>\n",
       "      <th>projectid</th>\n",
       "      <th>project_oid</th>\n",
       "      <th>account_oid</th>\n",
       "      <th>account_name</th>\n",
       "      <th>state</th>\n",
       "      <th>...</th>\n",
       "      <th>street_name</th>\n",
       "      <th>area_v2</th>\n",
       "      <th>web_url</th>\n",
       "      <th>facilities_key</th>\n",
       "      <th>surrounding_key</th>\n",
       "      <th>investor_id</th>\n",
       "      <th>investor_name</th>\n",
       "      <th>paid_time</th>\n",
       "      <th>short_introduction_content</th>\n",
       "      <th>full_url_with_params</th>\n",
       "    </tr>\n",
       "  </thead>\n",
       "  <tbody>\n",
       "    <tr>\n",
       "      <th>0</th>\n",
       "      <td>149173109</td>\n",
       "      <td>109212357</td>\n",
       "      <td>1.712927e+12</td>\n",
       "      <td>3 ngày trước</td>\n",
       "      <td>4735114</td>\n",
       "      <td>2464</td>\n",
       "      <td>1582239957</td>\n",
       "      <td>b144d70d0cf27d2fb85f9acec319e1ad</td>\n",
       "      <td>MR TOÀN</td>\n",
       "      <td>accepted</td>\n",
       "      <td>...</td>\n",
       "      <td>Nguyễn Văn Cừ</td>\n",
       "      <td>Huyện Nhơn Trạch</td>\n",
       "      <td>https://www.nhatot.com/du-an-khu-do-thi-dta-nh...</td>\n",
       "      <td>['play_ground', 'fire_alarm', 'elevator', 'par...</td>\n",
       "      <td>['school', 'hospital', 'atm', 'banks']</td>\n",
       "      <td>378</td>\n",
       "      <td>Công ty Cổ phần Đệ Tam (DTA)</td>\n",
       "      <td>1500192200337</td>\n",
       "      <td>1.Vị trí:Dự án khu đô thị DETACO NHƠN TRẠCH củ...</td>\n",
       "      <td>https://gateway.chotot.com/v1/public/api-pty/p...</td>\n",
       "    </tr>\n",
       "    <tr>\n",
       "      <th>1</th>\n",
       "      <td>156266188</td>\n",
       "      <td>115304264</td>\n",
       "      <td>1.712549e+12</td>\n",
       "      <td>1 tuần trước</td>\n",
       "      <td>19890442</td>\n",
       "      <td>2464</td>\n",
       "      <td>1582239957</td>\n",
       "      <td>2ca66c644efc61538b5b8c566a7b3601</td>\n",
       "      <td>Phước Bình Land</td>\n",
       "      <td>accepted</td>\n",
       "      <td>...</td>\n",
       "      <td>Đường Nguyễn Văn Cừ</td>\n",
       "      <td>Huyện Nhơn Trạch</td>\n",
       "      <td>https://www.nhatot.com/du-an-khu-do-thi-dta-nh...</td>\n",
       "      <td>['play_ground', 'fire_alarm', 'elevator', 'par...</td>\n",
       "      <td>['school', 'hospital', 'atm', 'banks']</td>\n",
       "      <td>378</td>\n",
       "      <td>Công ty Cổ phần Đệ Tam (DTA)</td>\n",
       "      <td>1500192200337</td>\n",
       "      <td>1.Vị trí:Dự án khu đô thị DETACO NHƠN TRẠCH củ...</td>\n",
       "      <td>https://gateway.chotot.com/v1/public/api-pty/p...</td>\n",
       "    </tr>\n",
       "    <tr>\n",
       "      <th>2</th>\n",
       "      <td>156220843</td>\n",
       "      <td>115265512</td>\n",
       "      <td>1.712246e+12</td>\n",
       "      <td>2 tuần trước</td>\n",
       "      <td>9809355</td>\n",
       "      <td>2464</td>\n",
       "      <td>1582239957</td>\n",
       "      <td>9e980419635ca710ce81ced52d1fd372</td>\n",
       "      <td>DIEM</td>\n",
       "      <td>accepted</td>\n",
       "      <td>...</td>\n",
       "      <td>Nguyễn Văn Cừ</td>\n",
       "      <td>Huyện Nhơn Trạch</td>\n",
       "      <td>https://www.nhatot.com/du-an-khu-do-thi-dta-nh...</td>\n",
       "      <td>['play_ground', 'fire_alarm', 'elevator', 'par...</td>\n",
       "      <td>['school', 'hospital', 'atm', 'banks']</td>\n",
       "      <td>378</td>\n",
       "      <td>Công ty Cổ phần Đệ Tam (DTA)</td>\n",
       "      <td>1500192200337</td>\n",
       "      <td>1.Vị trí:Dự án khu đô thị DETACO NHƠN TRẠCH củ...</td>\n",
       "      <td>https://gateway.chotot.com/v1/public/api-pty/p...</td>\n",
       "    </tr>\n",
       "    <tr>\n",
       "      <th>3</th>\n",
       "      <td>155978499</td>\n",
       "      <td>115057158</td>\n",
       "      <td>1.711619e+12</td>\n",
       "      <td>3 tuần trước</td>\n",
       "      <td>25481412</td>\n",
       "      <td>2464</td>\n",
       "      <td>1582239957</td>\n",
       "      <td>ed86d1bdfae46ca66407c9ea8588d034</td>\n",
       "      <td>Nguyễn Khắc Thành</td>\n",
       "      <td>accepted</td>\n",
       "      <td>...</td>\n",
       "      <td>Nguyễn Văn Cừ</td>\n",
       "      <td>Huyện Nhơn Trạch</td>\n",
       "      <td>https://www.nhatot.com/du-an-khu-do-thi-dta-nh...</td>\n",
       "      <td>['play_ground', 'fire_alarm', 'elevator', 'par...</td>\n",
       "      <td>['school', 'hospital', 'atm', 'banks']</td>\n",
       "      <td>378</td>\n",
       "      <td>Công ty Cổ phần Đệ Tam (DTA)</td>\n",
       "      <td>1500192200337</td>\n",
       "      <td>1.Vị trí:Dự án khu đô thị DETACO NHƠN TRẠCH củ...</td>\n",
       "      <td>https://gateway.chotot.com/v1/public/api-pty/p...</td>\n",
       "    </tr>\n",
       "    <tr>\n",
       "      <th>4</th>\n",
       "      <td>155935060</td>\n",
       "      <td>115019801</td>\n",
       "      <td>1.711522e+12</td>\n",
       "      <td>3 tuần trước</td>\n",
       "      <td>3737279</td>\n",
       "      <td>2464</td>\n",
       "      <td>1582239957</td>\n",
       "      <td>569a0038167cba4a32f856190c415c76</td>\n",
       "      <td>Khanh</td>\n",
       "      <td>accepted</td>\n",
       "      <td>...</td>\n",
       "      <td>Nguyễn Văn Cừ</td>\n",
       "      <td>Huyện Nhơn Trạch</td>\n",
       "      <td>https://www.nhatot.com/du-an-khu-do-thi-dta-nh...</td>\n",
       "      <td>['play_ground', 'fire_alarm', 'elevator', 'par...</td>\n",
       "      <td>['school', 'hospital', 'atm', 'banks']</td>\n",
       "      <td>378</td>\n",
       "      <td>Công ty Cổ phần Đệ Tam (DTA)</td>\n",
       "      <td>1500192200337</td>\n",
       "      <td>1.Vị trí:Dự án khu đô thị DETACO NHƠN TRẠCH củ...</td>\n",
       "      <td>https://gateway.chotot.com/v1/public/api-pty/p...</td>\n",
       "    </tr>\n",
       "  </tbody>\n",
       "</table>\n",
       "<p>5 rows × 44 columns</p>\n",
       "</div>"
      ],
      "text/plain": [
       "       ad_id    list_id     list_time          date  account_id  projectid  \\\n",
       "0  149173109  109212357  1.712927e+12  3 ngày trước     4735114       2464   \n",
       "1  156266188  115304264  1.712549e+12  1 tuần trước    19890442       2464   \n",
       "2  156220843  115265512  1.712246e+12  2 tuần trước     9809355       2464   \n",
       "3  155978499  115057158  1.711619e+12  3 tuần trước    25481412       2464   \n",
       "4  155935060  115019801  1.711522e+12  3 tuần trước     3737279       2464   \n",
       "\n",
       "   project_oid                       account_oid       account_name     state  \\\n",
       "0   1582239957  b144d70d0cf27d2fb85f9acec319e1ad            MR TOÀN  accepted   \n",
       "1   1582239957  2ca66c644efc61538b5b8c566a7b3601    Phước Bình Land  accepted   \n",
       "2   1582239957  9e980419635ca710ce81ced52d1fd372               DIEM  accepted   \n",
       "3   1582239957  ed86d1bdfae46ca66407c9ea8588d034  Nguyễn Khắc Thành  accepted   \n",
       "4   1582239957  569a0038167cba4a32f856190c415c76              Khanh  accepted   \n",
       "\n",
       "   ...          street_name           area_v2  \\\n",
       "0  ...        Nguyễn Văn Cừ  Huyện Nhơn Trạch   \n",
       "1  ...  Đường Nguyễn Văn Cừ  Huyện Nhơn Trạch   \n",
       "2  ...        Nguyễn Văn Cừ  Huyện Nhơn Trạch   \n",
       "3  ...        Nguyễn Văn Cừ  Huyện Nhơn Trạch   \n",
       "4  ...        Nguyễn Văn Cừ  Huyện Nhơn Trạch   \n",
       "\n",
       "                                             web_url  \\\n",
       "0  https://www.nhatot.com/du-an-khu-do-thi-dta-nh...   \n",
       "1  https://www.nhatot.com/du-an-khu-do-thi-dta-nh...   \n",
       "2  https://www.nhatot.com/du-an-khu-do-thi-dta-nh...   \n",
       "3  https://www.nhatot.com/du-an-khu-do-thi-dta-nh...   \n",
       "4  https://www.nhatot.com/du-an-khu-do-thi-dta-nh...   \n",
       "\n",
       "                                      facilities_key  \\\n",
       "0  ['play_ground', 'fire_alarm', 'elevator', 'par...   \n",
       "1  ['play_ground', 'fire_alarm', 'elevator', 'par...   \n",
       "2  ['play_ground', 'fire_alarm', 'elevator', 'par...   \n",
       "3  ['play_ground', 'fire_alarm', 'elevator', 'par...   \n",
       "4  ['play_ground', 'fire_alarm', 'elevator', 'par...   \n",
       "\n",
       "                          surrounding_key investor_id  \\\n",
       "0  ['school', 'hospital', 'atm', 'banks']         378   \n",
       "1  ['school', 'hospital', 'atm', 'banks']         378   \n",
       "2  ['school', 'hospital', 'atm', 'banks']         378   \n",
       "3  ['school', 'hospital', 'atm', 'banks']         378   \n",
       "4  ['school', 'hospital', 'atm', 'banks']         378   \n",
       "\n",
       "                  investor_name      paid_time  \\\n",
       "0  Công ty Cổ phần Đệ Tam (DTA)  1500192200337   \n",
       "1  Công ty Cổ phần Đệ Tam (DTA)  1500192200337   \n",
       "2  Công ty Cổ phần Đệ Tam (DTA)  1500192200337   \n",
       "3  Công ty Cổ phần Đệ Tam (DTA)  1500192200337   \n",
       "4  Công ty Cổ phần Đệ Tam (DTA)  1500192200337   \n",
       "\n",
       "                          short_introduction_content  \\\n",
       "0  1.Vị trí:Dự án khu đô thị DETACO NHƠN TRẠCH củ...   \n",
       "1  1.Vị trí:Dự án khu đô thị DETACO NHƠN TRẠCH củ...   \n",
       "2  1.Vị trí:Dự án khu đô thị DETACO NHƠN TRẠCH củ...   \n",
       "3  1.Vị trí:Dự án khu đô thị DETACO NHƠN TRẠCH củ...   \n",
       "4  1.Vị trí:Dự án khu đô thị DETACO NHƠN TRẠCH củ...   \n",
       "\n",
       "                                full_url_with_params  \n",
       "0  https://gateway.chotot.com/v1/public/api-pty/p...  \n",
       "1  https://gateway.chotot.com/v1/public/api-pty/p...  \n",
       "2  https://gateway.chotot.com/v1/public/api-pty/p...  \n",
       "3  https://gateway.chotot.com/v1/public/api-pty/p...  \n",
       "4  https://gateway.chotot.com/v1/public/api-pty/p...  \n",
       "\n",
       "[5 rows x 44 columns]"
      ]
     },
     "execution_count": 298,
     "metadata": {},
     "output_type": "execute_result"
    }
   ],
   "source": [
    "# Hiển thị kết quả\n",
    "merged_df.head()"
   ]
  },
  {
   "cell_type": "markdown",
   "metadata": {},
   "source": [
    "### THU GIẢM DỮ LIỆU"
   ]
  },
  {
   "cell_type": "code",
   "execution_count": 299,
   "metadata": {},
   "outputs": [],
   "source": [
    "# Loại bỏ cột không sử dụng\n",
    "columns_to_drop = ['ad_id'\n",
    "                   , 'list_id'\n",
    "                   ,'list_time'\n",
    "                   ,'date'\n",
    "                   ,'account_id'\n",
    "                   ,'account_oid'\n",
    "                   ,'account_name'\n",
    "                   ,'state'\n",
    "                   ,'region_v2'\n",
    "                   ,'type'\n",
    "                   ,'price_string'\n",
    "                   ,'escrow_can_deposit'\n",
    "                   ,'params','paid_time'\n",
    "                   ,'short_introduction_content'\n",
    "                   ,'state'\n",
    "                   ,'body'\n",
    "                   ,'area'\n",
    "                   ,'region'\n",
    "                   ,'type'\n",
    "                   ,'price_string'\n",
    "                   ,'company_ad'\n",
    "                   ,'region'\n",
    "                   ,'ward'\n",
    "                   ,'location'\n",
    "                   ,'longitude'\n",
    "                   ,'latitude'\n",
    "                   ,'escrow_can_deposit'\n",
    "                   ,'params'\n",
    "                   ,'category'\n",
    "                   ,'zero_deposit'\n",
    "                   ,'web_url'\n",
    "                   ,'short_introduction_content'\n",
    "                   ,'full_url_with_params']\n",
    "merged_df = merged_df.drop(columns=columns_to_drop)"
   ]
  },
  {
   "cell_type": "code",
   "execution_count": 300,
   "metadata": {},
   "outputs": [
    {
     "name": "stdout",
     "output_type": "stream",
     "text": [
      "       projectid  project_oid  \\\n",
      "0           2464   1582239957   \n",
      "1           2464   1582239957   \n",
      "2           2464   1582239957   \n",
      "3           2464   1582239957   \n",
      "4           2464   1582239957   \n",
      "...          ...          ...   \n",
      "10794       3931   1833333982   \n",
      "10795       4397   1312047912   \n",
      "10796       4818    453709511   \n",
      "10797       4266   1964432767   \n",
      "10798       4460   1786510809   \n",
      "\n",
      "                                                 subject    category_name  \\\n",
      "0      chủ vỡ nợ ban gấp nhà DTA 100m2 1 trệt 1 lầu t...            Nhà ở   \n",
      "1                                  Hàng ngộp cần bán gấp            Nhà ở   \n",
      "2                                           kẹt tiền trả            Nhà ở   \n",
      "3      Chính Chủ Cần Bán Gấp Căn Nhà Dự Án DTA giá bá...            Nhà ở   \n",
      "4      Chính chủ bán lỗ căn chung 33m2 xã Phước An gầ...  Căn hộ/Chung cư   \n",
      "...                                                  ...              ...   \n",
      "10794             chính chủ cần bán lô Tân Long 1 sổ sẵn              Đất   \n",
      "10795       BÁN 2 LÔ LIỀN KỀ A29 A30 OSAKA 2 VÕ VĂN BÍCH              Đất   \n",
      "10796  Chính chủ bán căn hộ An Hội. Tặng nội thất cao...  Căn hộ/Chung cư   \n",
      "10797         Biệt thự liền kề tại Đông Anh chỉ hơn 6 tỷ            Nhà ở   \n",
      "10798  Chính chủ Trần Quang Tông bán lô mặt tiền HÙNG...              Đất   \n",
      "\n",
      "              area_name     region_name         price  rooms    size  \\\n",
      "0      Huyện Nhơn Trạch        Đồng Nai  2.000000e+09    2.0   100.0   \n",
      "1      Huyện Nhơn Trạch        Đồng Nai  2.100000e+09    2.0   100.0   \n",
      "2      Huyện Nhơn Trạch        Đồng Nai  3.333333e+10    3.0  1000.0   \n",
      "3      Huyện Nhơn Trạch        Đồng Nai  1.300000e+09    2.0   105.0   \n",
      "4      Huyện Nhơn Trạch        Đồng Nai  3.500000e+08    1.0    33.0   \n",
      "...                 ...             ...           ...    ...     ...   \n",
      "10794   Thị xã Tân Uyên      Bình Dương  1.300000e+09    NaN    75.0   \n",
      "10795      Huyện Củ Chi  Tp Hồ Chí Minh  1.650000e+09    NaN    81.0   \n",
      "10796       Quận Gò Vấp  Tp Hồ Chí Minh  1.750000e+09    2.0    78.0   \n",
      "10797    Huyện Đông Anh          Hà Nội  6.500000e+09    4.0    70.0   \n",
      "10798      Huyện Đắk Hà         Kon Tum  8.600000e+08    NaN   180.0   \n",
      "\n",
      "               ward_name  price_million_per_m2  \\\n",
      "0            Xã Phước An             20.000000   \n",
      "1            Xã Phước An             21.000000   \n",
      "2            Xã Phước An             33.333333   \n",
      "3            Xã Phước An             12.380952   \n",
      "4            Xã Phước An             10.606061   \n",
      "...                  ...                   ...   \n",
      "10794   Phường Uyên Hưng             17.333333   \n",
      "10795         Xã Bình Mỹ             20.370370   \n",
      "10796          Phường 14             22.435897   \n",
      "10797  Thị trấn Đông Anh             92.857143   \n",
      "10798    Thị trấn Đắk Hà              4.777778   \n",
      "\n",
      "                                        street_name           area_v2  \\\n",
      "0                                     Nguyễn Văn Cừ  Huyện Nhơn Trạch   \n",
      "1                               Đường Nguyễn Văn Cừ  Huyện Nhơn Trạch   \n",
      "2                                     Nguyễn Văn Cừ  Huyện Nhơn Trạch   \n",
      "3                                     Nguyễn Văn Cừ  Huyện Nhơn Trạch   \n",
      "4                                     Nguyễn Văn Cừ  Huyện Nhơn Trạch   \n",
      "...                                             ...               ...   \n",
      "10794                                     Uyên Hưng   Thị xã Tân Uyên   \n",
      "10795                                       Bình Mỹ      Huyện Củ Chi   \n",
      "10796                                     Nguyên Xá       Quận Gò Vấp   \n",
      "10797  Tổ 53, Thị trấn Đông Anh, Đông Anh, Hà Nội    Huyện Đông Anh   \n",
      "10798                                    Hùng Vương      Huyện Đắk Hà   \n",
      "\n",
      "                                          facilities_key  \\\n",
      "0      ['play_ground', 'fire_alarm', 'elevator', 'par...   \n",
      "1      ['play_ground', 'fire_alarm', 'elevator', 'par...   \n",
      "2      ['play_ground', 'fire_alarm', 'elevator', 'par...   \n",
      "3      ['play_ground', 'fire_alarm', 'elevator', 'par...   \n",
      "4      ['play_ground', 'fire_alarm', 'elevator', 'par...   \n",
      "...                                                  ...   \n",
      "10794                                                 []   \n",
      "10795                                                 []   \n",
      "10796                                                 []   \n",
      "10797  ['sports_area', 'elevator', 'spa', 'bbq', 'sec...   \n",
      "10798                                                 []   \n",
      "\n",
      "                                         surrounding_key  investor_id  \\\n",
      "0                 ['school', 'hospital', 'atm', 'banks']          378   \n",
      "1                 ['school', 'hospital', 'atm', 'banks']          378   \n",
      "2                 ['school', 'hospital', 'atm', 'banks']          378   \n",
      "3                 ['school', 'hospital', 'atm', 'banks']          378   \n",
      "4                 ['school', 'hospital', 'atm', 'banks']          378   \n",
      "...                                                  ...          ...   \n",
      "10794                                                 []         1690   \n",
      "10795                                                 []          698   \n",
      "10796  ['school', 'market', 'hospital', 'kindergarten...         1458   \n",
      "10797       ['market', 'hospital', 'restaurants', 'atm']         1772   \n",
      "10798                                                 []         1825   \n",
      "\n",
      "                           investor_name  \n",
      "0           Công ty Cổ phần Đệ Tam (DTA)  \n",
      "1           Công ty Cổ phần Đệ Tam (DTA)  \n",
      "2           Công ty Cổ phần Đệ Tam (DTA)  \n",
      "3           Công ty Cổ phần Đệ Tam (DTA)  \n",
      "4           Công ty Cổ phần Đệ Tam (DTA)  \n",
      "...                                  ...  \n",
      "10794          PHÁT TRIỂN NHÀ BÌNH DƯƠNG  \n",
      "10795                       Nhất Nam CIC  \n",
      "10796  TỔNG CÔNG TY ĐỊA ỐC SÀI GÒN RESCO  \n",
      "10797         Phát triển Đô thị Đông Anh  \n",
      "10798                         BrightLand  \n",
      "\n",
      "[10799 rows x 17 columns]\n"
     ]
    }
   ],
   "source": [
    "print(merged_df)"
   ]
  },
  {
   "cell_type": "markdown",
   "metadata": {},
   "source": [
    "### Xử lý dữ liệu trùng lặp"
   ]
  },
  {
   "cell_type": "code",
   "execution_count": 301,
   "metadata": {},
   "outputs": [],
   "source": [
    "# Đếm số lượng dữ liệu trùng lặp\n",
    "duplicate_count = merged_df.duplicated().sum()"
   ]
  },
  {
   "cell_type": "code",
   "execution_count": 302,
   "metadata": {},
   "outputs": [
    {
     "name": "stdout",
     "output_type": "stream",
     "text": [
      "Số lượng dữ liệu trùng lặp trước khi xử lý: 75\n"
     ]
    }
   ],
   "source": [
    "print(f\"Số lượng dữ liệu trùng lặp trước khi xử lý: {duplicate_count}\")"
   ]
  },
  {
   "cell_type": "code",
   "execution_count": 303,
   "metadata": {},
   "outputs": [],
   "source": [
    "# Xử lý dữ liệu trùng lặp\n",
    "merged_df.drop_duplicates(inplace=True)"
   ]
  },
  {
   "cell_type": "code",
   "execution_count": 304,
   "metadata": {},
   "outputs": [],
   "source": [
    "# Đếm số lượng dữ liệu trùng lặp sau khi xử lý\n",
    "duplicate_count = merged_df.duplicated().sum()"
   ]
  },
  {
   "cell_type": "code",
   "execution_count": 305,
   "metadata": {},
   "outputs": [
    {
     "name": "stdout",
     "output_type": "stream",
     "text": [
      "Số lượng dữ liệu lặp sau xử lý: 0\n"
     ]
    }
   ],
   "source": [
    "print(f\"Số lượng dữ liệu lặp sau xử lý: {duplicate_count}\")"
   ]
  },
  {
   "cell_type": "markdown",
   "metadata": {},
   "source": [
    "## Mã hoá dữ liệu (encoding)\n",
    "Đây là quá trình chuyển đổi các giá trị chuỗi hoặc các giá trị phân loại thành các giá trị số để các mô hình học máy có thể hiểu và xử lý được."
   ]
  },
  {
   "cell_type": "code",
   "execution_count": 306,
   "metadata": {},
   "outputs": [],
   "source": [
    "# Lấy danh sách các cột chuỗi\n",
    "categorical_columns = merged_df.select_dtypes(include=['object']).columns.tolist()"
   ]
  },
  {
   "cell_type": "code",
   "execution_count": 307,
   "metadata": {},
   "outputs": [
    {
     "name": "stdout",
     "output_type": "stream",
     "text": [
      "['subject', 'category_name', 'area_name', 'region_name', 'ward_name', 'street_name', 'area_v2', 'facilities_key', 'surrounding_key', 'investor_name']\n"
     ]
    }
   ],
   "source": [
    "# Hiển thị danh sách các cột chuỗi\n",
    "print(categorical_columns)"
   ]
  },
  {
   "cell_type": "code",
   "execution_count": 308,
   "metadata": {},
   "outputs": [],
   "source": [
    "# Tạo đối tượng LabelEncoder\n",
    "label_encoder = LabelEncoder()"
   ]
  },
  {
   "cell_type": "code",
   "execution_count": 309,
   "metadata": {},
   "outputs": [],
   "source": [
    "# Tạo một DataFrame để lưu các cột đã mã hóa\n",
    "encoded_df = merged_df.copy()"
   ]
  },
  {
   "cell_type": "code",
   "execution_count": 310,
   "metadata": {},
   "outputs": [],
   "source": [
    "# Mã hóa từng cột chuỗi\n",
    "for column in categorical_columns:\n",
    "    encoded_df[column] = label_encoder.fit_transform(merged_df[column])"
   ]
  },
  {
   "cell_type": "code",
   "execution_count": 311,
   "metadata": {},
   "outputs": [],
   "source": [
    "# Lưu DataFrame đã mã hóa vào file CSV mới\n",
    "encoded_df.to_csv('data_encoded.csv', index=False)"
   ]
  },
  {
   "cell_type": "code",
   "execution_count": 312,
   "metadata": {},
   "outputs": [],
   "source": [
    "# Gán lại DataFrame\n",
    "merged_df = encoded_df"
   ]
  },
  {
   "cell_type": "markdown",
   "metadata": {
    "id": "cYlKy8cAB1TB"
   },
   "source": [
    "### Thay thế dữ liệu thiếu\n",
    "Các tập dữ liệu thường chứa các giá trị thiếu, điều này có thể gây ra vấn đề cho các thuật toán học máy. Thay thế dữ liệu thiếu được gọi là bù đắp dữ liệu (data imputation)."
   ]
  },
  {
   "cell_type": "code",
   "execution_count": 313,
   "metadata": {},
   "outputs": [
    {
     "name": "stdout",
     "output_type": "stream",
     "text": [
      ">0,  missing entries: 0, percentage 0.00\n",
      ">1,  missing entries: 0, percentage 0.00\n",
      ">2,  missing entries: 0, percentage 0.00\n",
      ">3,  missing entries: 0, percentage 0.00\n",
      ">4,  missing entries: 0, percentage 0.00\n",
      ">5,  missing entries: 0, percentage 0.00\n",
      ">6,  missing entries: 2, percentage 0.02\n",
      ">7,  missing entries: 1028, percentage 9.59\n",
      ">8,  missing entries: 0, percentage 0.00\n",
      ">9,  missing entries: 0, percentage 0.00\n",
      ">10,  missing entries: 2, percentage 0.02\n",
      ">11,  missing entries: 0, percentage 0.00\n",
      ">12,  missing entries: 0, percentage 0.00\n",
      ">13,  missing entries: 0, percentage 0.00\n",
      ">14,  missing entries: 0, percentage 0.00\n",
      ">15,  missing entries: 0, percentage 0.00\n",
      ">16,  missing entries: 0, percentage 0.00\n"
     ]
    }
   ],
   "source": [
    "for i in range(len(merged_df.columns)):\n",
    "    missing_data = merged_df[merged_df.columns[i]].isna().sum()\n",
    "    perc = missing_data / len(merged_df) * 100\n",
    "    print('>%d,  missing entries: %d, percentage %.2f' % (i, missing_data, perc))"
   ]
  },
  {
   "cell_type": "code",
   "execution_count": 314,
   "metadata": {},
   "outputs": [
    {
     "name": "stdout",
     "output_type": "stream",
     "text": [
      "Số lượng giá trị thiếu trong mỗi cột:\n",
      "projectid                  0\n",
      "project_oid                0\n",
      "subject                    0\n",
      "category_name              0\n",
      "area_name                  0\n",
      "region_name                0\n",
      "price                      2\n",
      "rooms                   1028\n",
      "size                       0\n",
      "ward_name                  0\n",
      "price_million_per_m2       2\n",
      "street_name                0\n",
      "area_v2                    0\n",
      "facilities_key             0\n",
      "surrounding_key            0\n",
      "investor_id                0\n",
      "investor_name              0\n",
      "dtype: int64\n"
     ]
    }
   ],
   "source": [
    "# Đếm số lượng giá trị thiếu trong mỗi cột\n",
    "missing_values_count = merged_df.isnull().sum()\n",
    "\n",
    "print(\"Số lượng giá trị thiếu trong mỗi cột:\")\n",
    "print(missing_values_count)"
   ]
  },
  {
   "cell_type": "code",
   "execution_count": 315,
   "metadata": {},
   "outputs": [
    {
     "data": {
      "text/plain": [
       "<Axes: >"
      ]
     },
     "execution_count": 315,
     "metadata": {},
     "output_type": "execute_result"
    },
    {
     "data": {
      "image/png": "[encoded data removed]",
      "text/plain": [
       "<Figure size 400x400 with 1 Axes>"
      ]
     },
     "metadata": {},
     "output_type": "display_data"
    }
   ],
   "source": [
    "plt.figure(figsize = (4,4)) #hiển thị các giá trị thiếu trong tập dữ liệu\n",
    "sns.heatmap(merged_df.isna(), cbar=False, cmap='viridis', yticklabels=False)"
   ]
  },
  {
   "cell_type": "code",
   "execution_count": 316,
   "metadata": {},
   "outputs": [],
   "source": [
    "# Điền giá trị trung bình cho các cột dữ liệu thiếu\n",
    "merged_df['price'].fillna(merged_df['price'].mean(), inplace=True)\n",
    "merged_df['rooms'].fillna(merged_df['rooms'].mean(), inplace=True)\n",
    "merged_df['price_million_per_m2'].fillna(merged_df['price_million_per_m2'].mean(), inplace=True)"
   ]
  },
  {
   "cell_type": "code",
   "execution_count": 317,
   "metadata": {},
   "outputs": [
    {
     "name": "stdout",
     "output_type": "stream",
     "text": [
      "projectid               0\n",
      "project_oid             0\n",
      "subject                 0\n",
      "category_name           0\n",
      "area_name               0\n",
      "region_name             0\n",
      "price                   0\n",
      "rooms                   0\n",
      "size                    0\n",
      "ward_name               0\n",
      "price_million_per_m2    0\n",
      "street_name             0\n",
      "area_v2                 0\n",
      "facilities_key          0\n",
      "surrounding_key         0\n",
      "investor_id             0\n",
      "investor_name           0\n",
      "dtype: int64\n"
     ]
    }
   ],
   "source": [
    "# Kiểm tra lại DataFrame sau khi điền giá trị thiếu\n",
    "print(merged_df.isnull().sum())"
   ]
  },
  {
   "cell_type": "code",
   "execution_count": 318,
   "metadata": {},
   "outputs": [],
   "source": [
    "# Danh sách các cột bạn muốn kiểm tra null\n",
    "columns_to_check_null = ['ward_name', 'street_name', 'investor_name']  # Thay thế bằng tên của các cột bạn muốn kiểm tra null\n",
    "\n",
    "# Loại bỏ dòng có giá trị null trong các cột đã chỉ định\n",
    "merged_df = merged_df.dropna(subset=columns_to_check_null)\n"
   ]
  },
  {
   "cell_type": "code",
   "execution_count": 319,
   "metadata": {},
   "outputs": [
    {
     "name": "stdout",
     "output_type": "stream",
     "text": [
      "projectid               0\n",
      "project_oid             0\n",
      "subject                 0\n",
      "category_name           0\n",
      "area_name               0\n",
      "region_name             0\n",
      "price                   0\n",
      "rooms                   0\n",
      "size                    0\n",
      "ward_name               0\n",
      "price_million_per_m2    0\n",
      "street_name             0\n",
      "area_v2                 0\n",
      "facilities_key          0\n",
      "surrounding_key         0\n",
      "investor_id             0\n",
      "investor_name           0\n",
      "dtype: int64\n"
     ]
    }
   ],
   "source": [
    "# Kiểm tra lại DataFrame sau khi điền giá trị thiếu\n",
    "print(merged_df.isnull().sum())"
   ]
  },
  {
   "cell_type": "code",
   "execution_count": 320,
   "metadata": {},
   "outputs": [
    {
     "name": "stdout",
     "output_type": "stream",
     "text": [
      "       projectid  project_oid  subject  category_name  area_name  region_name  \\\n",
      "0           2464   1582239957     9670              1         23           42   \n",
      "1           2464   1582239957     7654              1         23           42   \n",
      "2           2464   1582239957     9874              1         23           42   \n",
      "3           2464   1582239957     4218              1         23           42   \n",
      "4           2464   1582239957     4460              0         23           42   \n",
      "...          ...          ...      ...            ...        ...          ...   \n",
      "10794       3931   1833333982     9643              3        125            2   \n",
      "10795       4397   1312047912      473              3         11           36   \n",
      "10796       4818    453709511     4372              0         64           36   \n",
      "10797       4266   1964432767      430              1         43           11   \n",
      "10798       4460   1786510809     4250              3         44           18   \n",
      "\n",
      "              price     rooms    size  ward_name  price_million_per_m2  \\\n",
      "0      2.000000e+09  2.000000   100.0        376             20.000000   \n",
      "1      2.100000e+09  2.000000   100.0        376             21.000000   \n",
      "2      3.333333e+10  3.000000  1000.0        376             33.333333   \n",
      "3      1.300000e+09  2.000000   105.0        376             12.380952   \n",
      "4      3.500000e+08  1.000000    33.0        376             10.606061   \n",
      "...             ...       ...     ...        ...                   ...   \n",
      "10794  1.300000e+09  2.290842    75.0        265             17.333333   \n",
      "10795  1.650000e+09  2.290842    81.0        338             20.370370   \n",
      "10796  1.750000e+09  2.000000    78.0          5             22.435897   \n",
      "10797  6.500000e+09  4.000000    70.0        325             92.857143   \n",
      "10798  8.600000e+08  2.290842   180.0        326              4.777778   \n",
      "\n",
      "       street_name  area_v2  facilities_key  surrounding_key  investor_id  \\\n",
      "0              507       23             136               90          378   \n",
      "1             1059       23             136               90          378   \n",
      "2              507       23             136               90          378   \n",
      "3              507       23             136               90          378   \n",
      "4              507       23             136               90          378   \n",
      "...            ...      ...             ...              ...          ...   \n",
      "10794          840      125             594              229         1690   \n",
      "10795          202       11             594              229          698   \n",
      "10796          464       64             594              148         1458   \n",
      "10797          837       43             545               41         1772   \n",
      "10798          316       44             594              229         1825   \n",
      "\n",
      "       investor_name  \n",
      "0                186  \n",
      "1                186  \n",
      "2                186  \n",
      "3                186  \n",
      "4                186  \n",
      "...              ...  \n",
      "10794            395  \n",
      "10795            392  \n",
      "10796            526  \n",
      "10797            405  \n",
      "10798             22  \n",
      "\n",
      "[10724 rows x 17 columns]\n"
     ]
    }
   ],
   "source": [
    "print(merged_df)"
   ]
  },
  {
   "cell_type": "markdown",
   "metadata": {},
   "source": [
    "### Xử lý giá trị nhiễu"
   ]
  },
  {
   "cell_type": "code",
   "execution_count": 321,
   "metadata": {},
   "outputs": [
    {
     "data": {
      "text/html": [
       "<div>\n",
       "<style scoped>\n",
       "    .dataframe tbody tr th:only-of-type {\n",
       "        vertical-align: middle;\n",
       "    }\n",
       "\n",
       "    .dataframe tbody tr th {\n",
       "        vertical-align: top;\n",
       "    }\n",
       "\n",
       "    .dataframe thead th {\n",
       "        text-align: right;\n",
       "    }\n",
       "</style>\n",
       "<table border=\"1\" class=\"dataframe\">\n",
       "  <thead>\n",
       "    <tr style=\"text-align: right;\">\n",
       "      <th></th>\n",
       "      <th>projectid</th>\n",
       "      <th>project_oid</th>\n",
       "      <th>subject</th>\n",
       "      <th>category_name</th>\n",
       "      <th>area_name</th>\n",
       "      <th>region_name</th>\n",
       "      <th>price</th>\n",
       "      <th>rooms</th>\n",
       "      <th>size</th>\n",
       "      <th>ward_name</th>\n",
       "      <th>price_million_per_m2</th>\n",
       "      <th>street_name</th>\n",
       "      <th>area_v2</th>\n",
       "      <th>facilities_key</th>\n",
       "      <th>surrounding_key</th>\n",
       "      <th>investor_id</th>\n",
       "      <th>investor_name</th>\n",
       "    </tr>\n",
       "  </thead>\n",
       "  <tbody>\n",
       "    <tr>\n",
       "      <th>0</th>\n",
       "      <td>2464</td>\n",
       "      <td>1582239957</td>\n",
       "      <td>9670</td>\n",
       "      <td>1</td>\n",
       "      <td>23</td>\n",
       "      <td>42</td>\n",
       "      <td>2.000000e+09</td>\n",
       "      <td>2.0</td>\n",
       "      <td>100.0</td>\n",
       "      <td>376</td>\n",
       "      <td>20.0</td>\n",
       "      <td>507</td>\n",
       "      <td>23</td>\n",
       "      <td>136</td>\n",
       "      <td>90</td>\n",
       "      <td>378</td>\n",
       "      <td>186</td>\n",
       "    </tr>\n",
       "  </tbody>\n",
       "</table>\n",
       "</div>"
      ],
      "text/plain": [
       "   projectid  project_oid  subject  category_name  area_name  region_name  \\\n",
       "0       2464   1582239957     9670              1         23           42   \n",
       "\n",
       "          price  rooms   size  ward_name  price_million_per_m2  street_name  \\\n",
       "0  2.000000e+09    2.0  100.0        376                  20.0          507   \n",
       "\n",
       "   area_v2  facilities_key  surrounding_key  investor_id  investor_name  \n",
       "0       23             136               90          378            186  "
      ]
     },
     "execution_count": 321,
     "metadata": {},
     "output_type": "execute_result"
    }
   ],
   "source": [
    "merged_df.head(1)"
   ]
  },
  {
   "cell_type": "code",
   "execution_count": 322,
   "metadata": {},
   "outputs": [],
   "source": [
    "def handle_outliers(df, column_name, threshold=1.5):\n",
    "    \"\"\"\n",
    "    Xử lý giá trị nhiễu cho một cột trong DataFrame.\n",
    "\n",
    "    Tham số:\n",
    "    - df: DataFrame - DataFrame chứa dữ liệu.\n",
    "    - column_name: str - Tên của cột cần xử lý.\n",
    "    - threshold: float - Ngưỡng IQR, mặc định là 1.5.\n",
    "\n",
    "    Trả về:\n",
    "    - DataFrame: DataFrame đã được loại bỏ các giá trị nhiễu trong cột.\n",
    "    \"\"\"\n",
    "    # Tính toán phạm vi IQR cho cột\n",
    "    Q1 = df[column_name].quantile(0.25)\n",
    "    Q3 = df[column_name].quantile(0.75)\n",
    "    IQR = Q3 - Q1\n",
    "\n",
    "    # Xác định số giá trị nhiễu trước khi lọc\n",
    "    num_outliers_before = ((df[column_name] < (Q1 - threshold * IQR)) | (df[column_name] > (Q3 + threshold * IQR))).sum()\n",
    "\n",
    "    \n",
    "    # In số giá trị nhiễu trước khi lọc của cột\n",
    "    print(f\"Số giá trị nhiễu trước khi lọc của cột '{column_name}': {num_outliers_before}\")\n",
    "    \n",
    "    # Xác định các điểm dữ liệu nhiễu\n",
    "    outliers = (df[column_name] < (Q1 - threshold * IQR)) | (df[column_name] > (Q3 + threshold * IQR))\n",
    "\n",
    "    # Loại bỏ các điểm dữ liệu nhiễu\n",
    "    cleaned_df = df[~outliers]\n",
    "\n",
    "    # Xác định số giá trị nhiễu trong cleaned data sau khi lọc\n",
    "    num_outliers_cleaned = ((cleaned_df[column_name] < (Q1 - threshold * IQR)) | (cleaned_df[column_name] > (Q3 + threshold * IQR))).sum()\n",
    "    print(f\"Số giá trị nhiễu trong cleaned data sau khi lọc của cột '{column_name}': {num_outliers_cleaned}\")\n",
    "    print();\n",
    "\n",
    "    return cleaned_df\n"
   ]
  },
  {
   "cell_type": "code",
   "execution_count": 323,
   "metadata": {},
   "outputs": [
    {
     "name": "stdout",
     "output_type": "stream",
     "text": [
      "Số giá trị nhiễu trước khi lọc của cột 'rooms': 3802\n",
      "Số giá trị nhiễu trong cleaned data sau khi lọc của cột 'rooms': 0\n",
      "\n",
      "Số giá trị nhiễu trước khi lọc của cột 'price': 563\n",
      "Số giá trị nhiễu trong cleaned data sau khi lọc của cột 'price': 0\n",
      "\n",
      "Số giá trị nhiễu trước khi lọc của cột 'size': 892\n",
      "Số giá trị nhiễu trong cleaned data sau khi lọc của cột 'size': 0\n",
      "\n",
      "Số giá trị nhiễu trước khi lọc của cột 'price_million_per_m2': 103\n",
      "Số giá trị nhiễu trong cleaned data sau khi lọc của cột 'price_million_per_m2': 0\n",
      "\n"
     ]
    }
   ],
   "source": [
    "# Loại bỏ các giá trị nhiễu\n",
    "columns_to_handle = [\"rooms\"\n",
    "                     , \"price\"\n",
    "                     , \"size\"\n",
    "                     , \"price_million_per_m2\"]\n",
    "\n",
    "for column_name in columns_to_handle:\n",
    "    merged_df = handle_outliers(merged_df, column_name)"
   ]
  },
  {
   "cell_type": "code",
   "execution_count": 324,
   "metadata": {},
   "outputs": [
    {
     "name": "stdout",
     "output_type": "stream",
     "text": [
      "       projectid  project_oid  subject  category_name  area_name  region_name  \\\n",
      "0           2464   1582239957     9670              1         23           42   \n",
      "1           2464   1582239957     7654              1         23           42   \n",
      "6           2464   1582239957     9572              1         23           42   \n",
      "10           284    405530665     2262              0         37           13   \n",
      "11           284    405530665     1972              0         37           13   \n",
      "...          ...          ...      ...            ...        ...          ...   \n",
      "10787       3283   1327365846     4640              3         10           19   \n",
      "10791       4271    382062794    10011              3         83           42   \n",
      "10794       3931   1833333982     9643              3        125            2   \n",
      "10795       4397   1312047912      473              3         11           36   \n",
      "10796       4818    453709511     4372              0         64           36   \n",
      "\n",
      "              price     rooms   size  ward_name  price_million_per_m2  \\\n",
      "0      2.000000e+09  2.000000  100.0        376             20.000000   \n",
      "1      2.100000e+09  2.000000  100.0        376             21.000000   \n",
      "6      1.650000e+09  2.000000  100.0        376             16.500000   \n",
      "10     3.620000e+09  2.000000   71.0        411             50.985915   \n",
      "11     2.900000e+09  2.000000   56.0        411             51.785714   \n",
      "...             ...       ...    ...        ...                   ...   \n",
      "10787  9.000000e+08  2.290842  100.0        383              9.000000   \n",
      "10791  1.800000e+09  2.290842  100.0         59             18.000000   \n",
      "10794  1.300000e+09  2.290842   75.0        265             17.333333   \n",
      "10795  1.650000e+09  2.290842   81.0        338             20.370370   \n",
      "10796  1.750000e+09  2.000000   78.0          5             22.435897   \n",
      "\n",
      "       street_name  area_v2  facilities_key  surrounding_key  investor_id  \\\n",
      "0              507       23             136               90          378   \n",
      "1             1059       23             136               90          378   \n",
      "6              507       23             136               90          378   \n",
      "10             752       37             503              229          975   \n",
      "11             752       37             503              229          975   \n",
      "...            ...      ...             ...              ...          ...   \n",
      "10787          645       10             581               60            0   \n",
      "10791          499       83             147               21          580   \n",
      "10794          840      125             594              229         1690   \n",
      "10795          202       11             594              229          698   \n",
      "10796          464       64             594              148         1458   \n",
      "\n",
      "       investor_name  \n",
      "0                186  \n",
      "1                186  \n",
      "6                186  \n",
      "10               542  \n",
      "11               542  \n",
      "...              ...  \n",
      "10787            657  \n",
      "10791            349  \n",
      "10794            395  \n",
      "10795            392  \n",
      "10796            526  \n",
      "\n",
      "[5364 rows x 17 columns]\n"
     ]
    }
   ],
   "source": [
    "print(merged_df)"
   ]
  },
  {
   "cell_type": "markdown",
   "metadata": {},
   "source": [
    "### Chuẩn hoá Min-Max:\n",
    "Phương pháp chuẩn hoá Min-Max được sử dụng để chuyển đổi dữ liệu sao cho nó nằm trong một phạm vi đã cho, thường là từ 0 đến 1. Quy trình chuẩn hoá này giữ nguyên phân phối của dữ liệu ban đầu và giữ cho các giá trị được phân phối đều trong khoảng đã chọn."
   ]
  },
  {
   "cell_type": "code",
   "execution_count": 325,
   "metadata": {},
   "outputs": [],
   "source": [
    "# Tính giá trị nhỏ nhất và lớn nhất trong dữ liệu\n",
    "max_value = merged_df.max().values\n",
    "min_value = merged_df.min().values"
   ]
  },
  {
   "cell_type": "code",
   "execution_count": 326,
   "metadata": {},
   "outputs": [
    {
     "name": "stdout",
     "output_type": "stream",
     "text": [
      "[4.89600000e+03 2.14735312e+09 1.06050000e+04 3.00000000e+00\n",
      " 1.27000000e+02 4.20000000e+01 5.71500000e+09 2.29084158e+00\n",
      " 1.03000000e+02 4.27000000e+02 6.75675676e+01 1.26300000e+03\n",
      " 1.27000000e+02 5.94000000e+02 2.29000000e+02 1.97500000e+03\n",
      " 6.57000000e+02]\n",
      "[2.00000000e+00 9.17300000e+04 3.00000000e+00 0.00000000e+00\n",
      " 0.00000000e+00 0.00000000e+00 1.17000000e+08 2.00000000e+00\n",
      " 3.10000000e+01 0.00000000e+00 2.40384615e+00 0.00000000e+00\n",
      " 0.00000000e+00 2.00000000e+00 0.00000000e+00 0.00000000e+00\n",
      " 1.00000000e+00]\n"
     ]
    }
   ],
   "source": [
    "print(max_value);\n",
    "print(min_value);"
   ]
  },
  {
   "cell_type": "code",
   "execution_count": 327,
   "metadata": {},
   "outputs": [],
   "source": [
    "\n",
    "# Chuẩn hoá dữ liệu bằng Min-Max\n",
    "merged_df_min_max = (merged_df - min_value) / (max_value - min_value)"
   ]
  },
  {
   "cell_type": "code",
   "execution_count": 328,
   "metadata": {},
   "outputs": [
    {
     "name": "stdout",
     "output_type": "stream",
     "text": [
      "Dữ liệu sau khi chuẩn hoá Min-Max:\n",
      "    projectid  project_oid   subject  category_name  area_name  region_name  \\\n",
      "0    0.503065     0.736821  0.911809       0.333333   0.181102     1.000000   \n",
      "1    0.503065     0.736821  0.721656       0.333333   0.181102     1.000000   \n",
      "6    0.503065     0.736821  0.902566       0.333333   0.181102     1.000000   \n",
      "10   0.057622     0.188817  0.213073       0.000000   0.291339     0.309524   \n",
      "11   0.057622     0.188817  0.185720       0.000000   0.291339     0.309524   \n",
      "\n",
      "       price  rooms      size  ward_name  price_million_per_m2  street_name  \\\n",
      "0   0.336370    0.0  0.958333   0.880562              0.270030     0.401425   \n",
      "1   0.354234    0.0  0.958333   0.880562              0.285376     0.838480   \n",
      "6   0.273848    0.0  0.958333   0.880562              0.216319     0.401425   \n",
      "10  0.625759    0.0  0.555556   0.962529              0.745539     0.595408   \n",
      "11  0.497142    0.0  0.347222   0.962529              0.757812     0.595408   \n",
      "\n",
      "     area_v2  facilities_key  surrounding_key  investor_id  investor_name  \n",
      "0   0.181102        0.226351         0.393013     0.191392       0.282012  \n",
      "1   0.181102        0.226351         0.393013     0.191392       0.282012  \n",
      "6   0.181102        0.226351         0.393013     0.191392       0.282012  \n",
      "10  0.291339        0.846284         1.000000     0.493671       0.824695  \n",
      "11  0.291339        0.846284         1.000000     0.493671       0.824695  \n"
     ]
    }
   ],
   "source": [
    "print(\"Dữ liệu sau khi chuẩn hoá Min-Max:\")\n",
    "print(merged_df_min_max.head())"
   ]
  },
  {
   "cell_type": "markdown",
   "metadata": {},
   "source": [
    "### Thu giảm số chiều dữ liệu\n",
    "Thu giảm số chiều dữ liệu (dimensionality reduction) là quá trình giảm số lượng biến độc lập (chiều) trong tập dữ liệu mà không gây mất mát thông tin quan trọng. Quá trình này thường được áp dụng để giảm bớt sự phức tạp của dữ liệu, giảm thiểu chi phí tính toán và tăng hiệu suất của các mô hình máy học"
   ]
  },
  {
   "cell_type": "code",
   "execution_count": 329,
   "metadata": {},
   "outputs": [],
   "source": [
    "# Tạo ma trận tương quan\n",
    "corr_matrix = merged_df.corr()"
   ]
  },
  {
   "cell_type": "code",
   "execution_count": 330,
   "metadata": {},
   "outputs": [],
   "source": [
    "# Chọn ngưỡng tương quan\n",
    "threshold = 1"
   ]
  },
  {
   "cell_type": "code",
   "execution_count": 331,
   "metadata": {},
   "outputs": [
    {
     "data": {
      "image/png": "[encoded data removed]",
      "text/plain": [
       "<Figure size 1000x800 with 2 Axes>"
      ]
     },
     "metadata": {},
     "output_type": "display_data"
    }
   ],
   "source": [
    "# Đồ thị heatmap thể hiện sự mối tương quan của các thuộc tính.\n",
    "plt.figure(figsize=(10, 8))\n",
    "sns.heatmap(corr_matrix, annot=True, cmap='coolwarm', fmt=\".2f\")\n",
    "plt.title('Heatmap - Mối tương quan giữa các thuộc tính')\n",
    "plt.show()"
   ]
  },
  {
   "cell_type": "code",
   "execution_count": 332,
   "metadata": {},
   "outputs": [],
   "source": [
    "# Xác định cột có tương quan cao\n",
    "high_corr_cols = set()\n",
    "for i in range(len(corr_matrix.columns)):\n",
    "    for j in range(i):\n",
    "        if abs(corr_matrix.iloc[i, j]) > threshold:\n",
    "            colname_i = corr_matrix.columns[i]\n",
    "            colname_j = corr_matrix.columns[j]\n",
    "            high_corr_cols.add(colname_i)\n",
    "            high_corr_cols.add(colname_j)"
   ]
  },
  {
   "cell_type": "code",
   "execution_count": 333,
   "metadata": {},
   "outputs": [],
   "source": [
    "# Loại bỏ các cột có tương quan cao\n",
    "merged_df = merged_df.drop(high_corr_cols, axis=1)"
   ]
  },
  {
   "cell_type": "code",
   "execution_count": 334,
   "metadata": {},
   "outputs": [
    {
     "data": {
      "image/png": "[encoded data removed]",
      "text/plain": [
       "<Figure size 1000x800 with 2 Axes>"
      ]
     },
     "metadata": {},
     "output_type": "display_data"
    }
   ],
   "source": [
    "# Đồ thị heatmap thể hiện sự mối tương quan của các thuộc tính.\n",
    "plt.figure(figsize=(10, 8))\n",
    "sns.heatmap(corr_matrix, annot=True, cmap='coolwarm', fmt=\".2f\")\n",
    "plt.title('Heatmap - Mối tương quan giữa các thuộc tính')\n",
    "plt.show()"
   ]
  },
  {
   "cell_type": "code",
   "execution_count": 337,
   "metadata": {},
   "outputs": [],
   "source": [
    "merged_df.to_csv(\"real_estate_processed.csv\")"
   ]
  },
  {
   "cell_type": "markdown",
   "metadata": {
    "id": "DSbKT73UTLjq"
   },
   "source": [
    "## Mã hóa dữ liệu phân loại\n",
    "#### Mã hóa biến độc lập (X)"
   ]
  },
  {
   "cell_type": "code",
   "execution_count": null,
   "metadata": {
    "id": "GE_afh9zTr5o"
   },
   "outputs": [],
   "source": [
    "from sklearn.compose import ColumnTransformer\n",
    "from sklearn.preprocessing import OneHotEncoder\n",
    "\n",
    "# Giả sử 'df' là DataFrame chứa tập dữ liệu\n",
    "# Xác định các cột cần mã hoá\n",
    "columns_to_encode = ['subject', 'category_name', 'area_name', 'region_name', \n",
    "                     'ward_name', 'street_name', 'area_v2', 'facilities_key', \n",
    "                     'surrounding_key', 'investor_id', 'investor_name']\n",
    "\n",
    "# Định nghĩa ColumnTransformer\n",
    "ct = ColumnTransformer(\n",
    "    transformers=[('encoder', OneHotEncoder(), columns_to_encode)], \n",
    "    remainder='passthrough'\n",
    ")\n",
    "\n",
    "# Fit và transform DataFrame\n",
    "X_encoded = ct.fit_transform(merged_df)\n",
    "\n",
    "# Chuyển kết quả thành DataFrame nếu cần\n",
    "X_encoded_df = pd.DataFrame(X_encoded)\n"
   ]
  },
  {
   "cell_type": "code",
   "execution_count": null,
   "metadata": {
    "colab": {
     "base_uri": "https://localhost:8080/"
    },
    "id": "Lq80jsTIY_n0",
    "outputId": "fef87bf8-f64c-470d-ecc1-6762fcd29524"
   },
   "outputs": [],
   "source": [
    "X_encoded_df.head()"
   ]
  },
  {
   "cell_type": "markdown",
   "metadata": {
    "id": "YXXF5M3xZUA1"
   },
   "source": [
    "#### Mã hóa biến phụ thuộc (Y)"
   ]
  },
  {
   "cell_type": "code",
   "execution_count": null,
   "metadata": {
    "id": "O054hXMtZTx_"
   },
   "outputs": [],
   "source": [
    "# Do biến price là biến liên tục nên ko cần mã hoá ^^\n",
    "# Gán biến phụ thuộc Y\n",
    "Y = merged_df['price']"
   ]
  },
  {
   "cell_type": "code",
   "execution_count": null,
   "metadata": {
    "colab": {
     "base_uri": "https://localhost:8080/"
    },
    "id": "VmdJJTofZwyi",
    "outputId": "97adaef3-356a-47b0-8cd3-70dc15a74464"
   },
   "outputs": [],
   "source": [
    "print(Y)"
   ]
  },
  {
   "cell_type": "markdown",
   "metadata": {
    "id": "3abSxRqvWEIB"
   },
   "source": [
    "# Splitting the dataset (X = data, y = output) into the Training set and Test set"
   ]
  },
  {
   "cell_type": "code",
   "execution_count": null,
   "metadata": {
    "id": "hm48sif-WWsh"
   },
   "outputs": [],
   "source": [
    "X_train, X_test, y_train, y_test = train_test_split(X_encoded, Y, test_size = 0.2, random_state = 1)"
   ]
  },
  {
   "cell_type": "code",
   "execution_count": null,
   "metadata": {
    "colab": {
     "base_uri": "https://localhost:8080/"
    },
    "id": "Nw7mYJpeDi6s",
    "outputId": "125be395-50a3-4590-848b-403a05ec4e75"
   },
   "outputs": [],
   "source": [
    "print(X_train)"
   ]
  },
  {
   "cell_type": "code",
   "execution_count": null,
   "metadata": {
    "colab": {
     "base_uri": "https://localhost:8080/"
    },
    "id": "318jeGZqDjhz",
    "outputId": "b3446b91-7633-47fa-897e-afb5b163b3ea"
   },
   "outputs": [],
   "source": [
    "print(X_test)"
   ]
  },
  {
   "cell_type": "code",
   "execution_count": null,
   "metadata": {
    "colab": {
     "base_uri": "https://localhost:8080/"
    },
    "id": "P-WZ1_yDDjoN",
    "outputId": "f2a8efa2-a1e7-477e-8bc4-6834b531cc51"
   },
   "outputs": [],
   "source": [
    "print(y_train)"
   ]
  },
  {
   "cell_type": "code",
   "execution_count": null,
   "metadata": {
    "colab": {
     "base_uri": "https://localhost:8080/"
    },
    "id": "4C5Z1CgWDjyc",
    "outputId": "f97e7747-5a13-4acf-8f29-bc2debaf65aa"
   },
   "outputs": [],
   "source": [
    "print(y_test)"
   ]
  },
  {
   "cell_type": "markdown",
   "metadata": {
    "id": "5S5t--lxERd0"
   },
   "source": [
    "## Chuẩn hóa Đặc trưng (Feature scaling)"
   ]
  },
  {
   "cell_type": "code",
   "execution_count": null,
   "metadata": {
    "id": "ZlRjMJwbEUcP"
   },
   "outputs": [],
   "source": [
    "from sklearn.preprocessing import StandardScaler\n",
    "sc = StandardScaler()\n",
    "X_train[:,3:] = sc.fit_transform(X_train[:,3:])\n",
    "#only use Transform to use the SAME scaler as the Training Set\n",
    "X_test[:,3:] = sc.transform(X_test[:,3:])"
   ]
  },
  {
   "cell_type": "code",
   "execution_count": null,
   "metadata": {
    "colab": {
     "base_uri": "https://localhost:8080/"
    },
    "id": "c7dUZrlgS2Vy",
    "outputId": "e4b06995-b32b-40bc-a57b-43b2a41b19ad"
   },
   "outputs": [],
   "source": [
    "print(X_train)"
   ]
  },
  {
   "cell_type": "code",
   "execution_count": null,
   "metadata": {
    "colab": {
     "base_uri": "https://localhost:8080/"
    },
    "id": "T270Isd8T10Y",
    "outputId": "66e4d916-cdff-479b-809b-3be3cf313003",
    "scrolled": true
   },
   "outputs": [],
   "source": [
    "print(X_test)"
   ]
  }
 ],
 "metadata": {
  "colab": {
   "collapsed_sections": [],
   "name": "data_preprocessing_template.ipynb",
   "provenance": []
  },
  "kernelspec": {
   "display_name": "Python 3 (ipykernel)",
   "language": "python",
   "name": "python3"
  },
  "language_info": {
   "codemirror_mode": {
    "name": "ipython",
    "version": 3
   },
   "file_extension": ".py",
   "mimetype": "text/x-python",
   "name": "python",
   "nbconvert_exporter": "python",
   "pygments_lexer": "ipython3",
   "version": "3.11.7"
  }
 },
 "nbformat": 4,
 "nbformat_minor": 4
}
