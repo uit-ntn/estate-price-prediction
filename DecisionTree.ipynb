{
 "cells": [
  {
   "cell_type": "code",
   "execution_count": null,
   "id": "d9238545-9ee4-4d09-a915-7fe88b57a6f3",
   "metadata": {},
   "outputs": [],
   "source": [
    "import pandas as pd\n",
    "from sklearn.model_selection import train_test_split\n",
    "from sklearn.tree import DecisionTreeRegressor\n",
    "from sklearn.metrics import mean_squared_error, r2_score\n"
   ]
  },
  {
   "cell_type": "code",
   "execution_count": null,
   "id": "462a7865-f9e8-4143-9b5d-6da667ba7a38",
   "metadata": {},
   "outputs": [],
   "source": [
    "# Đọc dữ liệu từ tệp CSV vào DataFrame\n",
    "data = pd.read_csv('combined_data.csv') "
   ]
  },
  {
   "cell_type": "code",
   "execution_count": null,
   "id": "63a36eb8-7bd4-4c1b-8eb7-9523dc51129f",
   "metadata": {},
   "outputs": [],
   "source": [
    "# Chọn các đặc trưng và nhãn\n",
    "X = data[['size', 'rooms']] # Chọn 'size' và 'rooms' làm đặc trưng\n",
    "y = data['price'] # Giá là nhãn cần dự đoán"
   ]
  },
  {
   "cell_type": "code",
   "execution_count": null,
   "id": "56842e2e-2191-4791-9ff4-205ef38fdddd",
   "metadata": {},
   "outputs": [],
   "source": [
    "# Chia dữ liệu thành tập huấn luyện và tập kiểm tra\n",
    "X_train, X_test, y_train, y_test = train_test_split(X, y, test_size=0.2, random_state=42)"
   ]
  },
  {
   "cell_type": "code",
   "execution_count": null,
   "id": "1ec9ea07-76de-46ff-a66c-f61423b00a23",
   "metadata": {},
   "outputs": [],
   "source": [
    "# Khởi tạo mô hình cây quyết định\n",
    "model = DecisionTreeRegressor(random_state=42)"
   ]
  },
  {
   "cell_type": "code",
   "execution_count": null,
   "id": "b0519f37-44ea-42ff-8387-734b33176c0d",
   "metadata": {},
   "outputs": [],
   "source": [
    "# Huấn luyện mô hình trên tập huấn luyện\n",
    "model.fit(X_train, y_train)"
   ]
  },
  {
   "cell_type": "code",
   "execution_count": null,
   "id": "c51f30df-d5e4-4505-ab38-928ac9b806cb",
   "metadata": {},
   "outputs": [],
   "source": [
    "# Dự đoán giá trên tập kiểm tra\n",
    "y_pred = model.predict(X_test)"
   ]
  },
  {
   "cell_type": "code",
   "execution_count": null,
   "id": "dfdb74cb-c179-4dea-9886-8df72b460e16",
   "metadata": {},
   "outputs": [],
   "source": [
    "# Đánh giá mô hình bằng RMSE và R-squared\n",
    "rmse = mean_squared_error(y_test, y_pred, squared=False)\n",
    "r2 = r2_score(y_test, y_pred)\n",
    "\n",
    "print(\"RMSE:\", rmse)\n",
    "print(\"R-squared:\", r2"
   ]
  }
 ],
 "metadata": {
  "kernelspec": {
   "display_name": "Python 3 (ipykernel)",
   "language": "python",
   "name": "python3"
  },
  "language_info": {
   "codemirror_mode": {
    "name": "ipython",
    "version": 3
   },
   "file_extension": ".py",
   "mimetype": "text/x-python",
   "name": "python",
   "nbconvert_exporter": "python",
   "pygments_lexer": "ipython3",
   "version": "3.11.7"
  }
 },
 "nbformat": 4,
 "nbformat_minor": 5
}
