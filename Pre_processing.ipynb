{
 "cells": [
  {
   "cell_type": "code",
   "execution_count": null,
   "id": "c28d1a8b-ff8b-45ce-b7d4-af834f0ae88d",
   "metadata": {},
   "outputs": [],
   "source": [
    "import panda as pd\n",
    "import seaborn as sns\n",
    "import numpy as np"
   ]
  },
  {
   "cell_type": "code",
   "execution_count": null,
   "id": "1957016a-a612-4f1d-b235-a14a16299a4c",
   "metadata": {},
   "outputs": [],
   "source": [
    "data_df = pd.read_csv('./')"
   ]
  },
  {
   "cell_type": "code",
   "execution_count": null,
   "id": "b417c526-1bc4-4320-a9d4-5d474577752f",
   "metadata": {},
   "outputs": [],
   "source": []
  },
  {
   "cell_type": "code",
   "execution_count": null,
   "id": "0a31debc-72c4-4396-b96f-a53afa355e1d",
   "metadata": {},
   "outputs": [],
   "source": []
  }
 ],
 "metadata": {
  "kernelspec": {
   "display_name": "Python 3 (ipykernel)",
   "language": "python",
   "name": "python3"
  },
  "language_info": {
   "codemirror_mode": {
    "name": "ipython",
    "version": 3
   },
   "file_extension": ".py",
   "mimetype": "text/x-python",
   "name": "python",
   "nbconvert_exporter": "python",
   "pygments_lexer": "ipython3",
   "version": "3.11.7"
  }
 },
 "nbformat": 4,
 "nbformat_minor": 5
}
